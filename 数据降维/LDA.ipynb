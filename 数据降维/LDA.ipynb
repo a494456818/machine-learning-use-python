{
 "cells": [
  {
   "cell_type": "markdown",
   "metadata": {},
   "source": [
    "# 线性判别分析（LDA）\n",
    "### 1.用途：数据预处理中的降维，分类任务\n",
    "### 2.目标：LDA关心的是能够最大化类间区分度的坐标轴成分\n",
    "将特征空间（数据集中的多维样本）投影到一个维度更小的 k 维子空间中，\n",
    "同时保持区分类别的信息\n",
    "#### LDA是“有监督”的，它计算的是另一类特定的方向\n",
    "#### 投影的目的：找到更合适分类的空间\n",
    "#### 与PCA不同，更关心分类而不是方差\n",
    "\n",
    "## 3.理论：\n",
    "二分类举例：假设有数据集x，投影函数为 $ y = w^Tx $\n",
    "#### LDA分类的一个目标是使得不同类别之间的距离越远越好，同一类别之中的距离越近越好。\n",
    "1.计算每类样本的均值：$ u_i = \\frac{1}{N_i}\\sum_{x∈D_i}x $ <br>\n",
    "2.使用映射函数将原样本映射到新的样本空间中：$ y = w^Tx $ <br>\n",
    "3.计算投影后的均值：$ \\overline{u_i} = \\frac{1}{N_i}\\sum_{y∈D_i}y = \\frac{1}{N_i}\\sum_{x∈D_i}w^Tx = w^Tu_i $ <br/>\n",
    "4.使得投影后两类样本中心点尽量分离，即：$$ J(w) = |\\overline{u_1} - \\overline{n_2}| = |w^T(u_1-u_2)| $$\n",
    "** 那么只需要最大化J(w)就可以了吗？ <font color='red'>不是，若类内的离散度很高，虽然两类中心相聚较远，但是仍然会存在映射后两类样本重叠的情况</font> ** <br/>\n",
    "所以，仅仅使用类间中心距离是不够的，还需要类内的离散度来保证 <br/>\n",
    "5.同类之间应该密集一些，即：$$ \\overline{s_i^2} = \\sum_{y∈D_i}(y - \\overline{u_i})^2 $$ <br/>\n",
    "6.那么目标函数就转换为：$$ J(w) = \\frac{|\\overline{u_1} - \\overline{u_2}|^2}{\\overline{s_1}^2 + \\overline{s_2}^2} $$\n",
    "7.将散列值公式展开：$$ \\overline{s_i^2} = \\sum_{y∈D_i}(y - \\overline{u_i})^2 = \\sum_{x∈D_i}(w^Tx-w^Tu_i)^2 = \\sum_{x∈D_i}{w^T(x-u_i)(x-u_i)^Tw} $$\n",
    "其中散列矩阵为：$ s_i = \\sum_{x∈D_i}(x-u_i)(x-u_i)^T $ <br>\n",
    "8.类内的散列矩阵$S_w = S_1+S_2$\n",
    "9.计算类间散列矩阵：$$(\\overline{u_1} - \\overline{u_2})^2 = (w^Tu_1-w^Tu2)^2 = w^T(u_1-u_2)(u_1-u_2)^Tw = w^TS_Bw$$\n",
    "其中$S_B$称为类间散列矩阵 <br>\n",
    "10.所以，6中的目标转换为$J(w) = \\frac{w^TS_Bw}{w^TS_ww}$\n",
    "11.分母进行归一化：如果分子、分母是都可以取任意值的，那就会使得有无穷解，我们将分母限制为长度为1。然后利用拉个朗日乘子法求解：$$ c(w) = w^TS_Bw-λ(w^TS_ww-1) $$ $$ ==>\\frac{dc}{dw} = 2S_Bw - 2λS_ww 另其为 0 $$ $$ ==> S_Bw = λS_ww $$\n",
    "如果$S_w$是非奇异矩阵时，两边t乘以$ S_w $的逆矩阵，即：$$ S_w^{-1}S_Bw = λw $$（w就是矩阵$S_w^{-1}S_B$的特征向量，只要解出特征向量即可）"
   ]
  },
  {
   "cell_type": "code",
   "execution_count": 19,
   "metadata": {
    "collapsed": true
   },
   "outputs": [],
   "source": [
    "import numpy as np\n",
    "import pandas as pd\n",
    "from sklearn.preprocessing import LabelEncoder"
   ]
  },
  {
   "cell_type": "code",
   "execution_count": 15,
   "metadata": {},
   "outputs": [],
   "source": [
    "feature_dict = {i:label for i,label in zip(\n",
    "                range(4),\n",
    "                ('sepal length in cm',\n",
    "                 'sepal width in cm',\n",
    "                 'pepal length in cm',\n",
    "                 'petal width in cm'))}"
   ]
  },
  {
   "cell_type": "code",
   "execution_count": 18,
   "metadata": {
    "scrolled": true
   },
   "outputs": [
    {
     "data": {
      "text/html": [
       "<div>\n",
       "<style scoped>\n",
       "    .dataframe tbody tr th:only-of-type {\n",
       "        vertical-align: middle;\n",
       "    }\n",
       "\n",
       "    .dataframe tbody tr th {\n",
       "        vertical-align: top;\n",
       "    }\n",
       "\n",
       "    .dataframe thead th {\n",
       "        text-align: right;\n",
       "    }\n",
       "</style>\n",
       "<table border=\"1\" class=\"dataframe\">\n",
       "  <thead>\n",
       "    <tr style=\"text-align: right;\">\n",
       "      <th></th>\n",
       "      <th>sepal length in cm</th>\n",
       "      <th>sepal width in cm</th>\n",
       "      <th>pepal length in cm</th>\n",
       "      <th>petal width in cm</th>\n",
       "      <th>class label</th>\n",
       "    </tr>\n",
       "  </thead>\n",
       "  <tbody>\n",
       "    <tr>\n",
       "      <th>145</th>\n",
       "      <td>6.7</td>\n",
       "      <td>3.0</td>\n",
       "      <td>5.2</td>\n",
       "      <td>2.3</td>\n",
       "      <td>Iris-virginica</td>\n",
       "    </tr>\n",
       "    <tr>\n",
       "      <th>146</th>\n",
       "      <td>6.3</td>\n",
       "      <td>2.5</td>\n",
       "      <td>5.0</td>\n",
       "      <td>1.9</td>\n",
       "      <td>Iris-virginica</td>\n",
       "    </tr>\n",
       "    <tr>\n",
       "      <th>147</th>\n",
       "      <td>6.5</td>\n",
       "      <td>3.0</td>\n",
       "      <td>5.2</td>\n",
       "      <td>2.0</td>\n",
       "      <td>Iris-virginica</td>\n",
       "    </tr>\n",
       "    <tr>\n",
       "      <th>148</th>\n",
       "      <td>6.2</td>\n",
       "      <td>3.4</td>\n",
       "      <td>5.4</td>\n",
       "      <td>2.3</td>\n",
       "      <td>Iris-virginica</td>\n",
       "    </tr>\n",
       "    <tr>\n",
       "      <th>149</th>\n",
       "      <td>5.9</td>\n",
       "      <td>3.0</td>\n",
       "      <td>5.1</td>\n",
       "      <td>1.8</td>\n",
       "      <td>Iris-virginica</td>\n",
       "    </tr>\n",
       "  </tbody>\n",
       "</table>\n",
       "</div>"
      ],
      "text/plain": [
       "     sepal length in cm  sepal width in cm  pepal length in cm  \\\n",
       "145                 6.7                3.0                 5.2   \n",
       "146                 6.3                2.5                 5.0   \n",
       "147                 6.5                3.0                 5.2   \n",
       "148                 6.2                3.4                 5.4   \n",
       "149                 5.9                3.0                 5.1   \n",
       "\n",
       "     petal width in cm     class label  \n",
       "145                2.3  Iris-virginica  \n",
       "146                1.9  Iris-virginica  \n",
       "147                2.0  Iris-virginica  \n",
       "148                2.3  Iris-virginica  \n",
       "149                1.8  Iris-virginica  "
      ]
     },
     "execution_count": 18,
     "metadata": {},
     "output_type": "execute_result"
    }
   ],
   "source": [
    "df = pd.read_csv(\"http://archive.ics.uci.edu/ml/machine-learning-databases/iris/iris.data\",header=None)\n",
    "df.columns = [l for i,l in sorted(feature_dict.items())] + ['class label']\n",
    "df.tail()"
   ]
  },
  {
   "cell_type": "markdown",
   "metadata": {},
   "source": [
    "** X ** = $\\left[ \\begin{array} {X}\n",
    "x1_{sepal\\_length} & x1_{sepal\\_width} & x1_{petal\\_length} & x1_{petal\\_width} \\\\\n",
    "x2_{sepal\\_length} & x2_{sepal\\_width} & x2_{petal\\_length} & x2_{petal\\_width} \\\\\n",
    "\\cdots & \\cdots & \\cdots & \\cdots \\\\\n",
    "x150_{sepal\\_length} & x150_{sepal\\_width} & x150_{petal\\_length} & x150_{petal\\_width} \\\\\n",
    "\\end{array} \\right] $ ，**y** = $\\left[ \\begin{array} {y}\n",
    "w_{setosa} \\\\\n",
    "w_{setosa} \\\\\n",
    "\\cdots \\\\\n",
    "w_{virginica} \\\\\n",
    "\\end{array} \\right] $"
   ]
  },
  {
   "cell_type": "code",
   "execution_count": 24,
   "metadata": {
    "collapsed": true
   },
   "outputs": [],
   "source": [
    "X = df[['sepal length in cm','sepal width in cm','pepal length in cm','petal width in cm']].values\n",
    "y = df['class label'].values\n",
    "\n",
    "enc = LabelEncoder()\n",
    "label_encoder = enc.fit(y)\n",
    "y = label_encoder.transform(y)+1"
   ]
  },
  {
   "cell_type": "code",
   "execution_count": 26,
   "metadata": {},
   "outputs": [
    {
     "data": {
      "text/plain": [
       "array([1, 1, 1, 1, 1, 1, 1, 1, 1, 1, 1, 1, 1, 1, 1, 1, 1, 1, 1, 1, 1, 1,\n",
       "       1, 1, 1, 1, 1, 1, 1, 1, 1, 1, 1, 1, 1, 1, 1, 1, 1, 1, 1, 1, 1, 1,\n",
       "       1, 1, 1, 1, 1, 1, 2, 2, 2, 2, 2, 2, 2, 2, 2, 2, 2, 2, 2, 2, 2, 2,\n",
       "       2, 2, 2, 2, 2, 2, 2, 2, 2, 2, 2, 2, 2, 2, 2, 2, 2, 2, 2, 2, 2, 2,\n",
       "       2, 2, 2, 2, 2, 2, 2, 2, 2, 2, 2, 2, 3, 3, 3, 3, 3, 3, 3, 3, 3, 3,\n",
       "       3, 3, 3, 3, 3, 3, 3, 3, 3, 3, 3, 3, 3, 3, 3, 3, 3, 3, 3, 3, 3, 3,\n",
       "       3, 3, 3, 3, 3, 3, 3, 3, 3, 3, 3, 3, 3, 3, 3, 3, 3, 3])"
      ]
     },
     "execution_count": 26,
     "metadata": {},
     "output_type": "execute_result"
    }
   ],
   "source": [
    "y"
   ]
  },
  {
   "cell_type": "markdown",
   "metadata": {},
   "source": [
    "**y** = $\\left[ \\begin{array} {y}\n",
    "setosa \\\\\n",
    "setosa \\\\\n",
    "\\cdots \\\\\n",
    "virginica \\\\\n",
    "\\end{array} \\right] = \n",
    "\\left[ \\begin{array} {y}\n",
    "1 \\\\\n",
    "1 \\\\\n",
    "\\cdots \\\\\n",
    "3 \\\\\n",
    "\\end{array} \\right]\n",
    "$\n",
    "### 分别求三种鸢尾花数据在不同维度上的均值向量$m_i$\n",
    "$m_i = \\left[ \\begin{array} {y}\n",
    "u_{wi(sepal\\_length)} \\\\\n",
    "u_{wi(sepal\\_width)} \\\\\n",
    "u_{wi(petal\\_length)} \\\\\n",
    "u_{wi(petal\\_length)} \\\\\n",
    "\\end{array} \\right]\n",
    "， with $ i = 1,2,3  "
   ]
  },
  {
   "cell_type": "code",
   "execution_count": 28,
   "metadata": {},
   "outputs": [
    {
     "name": "stdout",
     "output_type": "stream",
     "text": [
      "Mean Vector class 1：[5.006 3.418 1.464 0.244]\n",
      "\n",
      "Mean Vector class 2：[5.936 2.77  4.26  1.326]\n",
      "\n",
      "Mean Vector class 3：[6.588 2.974 5.552 2.026]\n",
      "\n"
     ]
    }
   ],
   "source": [
    "np.set_printoptions(precision=4)\n",
    "\n",
    "mean_vectors = []\n",
    "for cl in range(1,4):\n",
    "    mean_vectors.append(np.mean(X[y==cl],axis=0))\n",
    "    print(\"Mean Vector class %s：%s\\n\"%(cl,mean_vectors[cl-1]))"
   ]
  },
  {
   "cell_type": "markdown",
   "metadata": {},
   "source": [
    "## 计算两个4X4维矩阵：类内散步矩阵和类间散步矩阵\n",
    "### 类内散布矩阵：$$ S_W = \\sum_{i=1}^{c}S_i $$ $$ S_i = \\sum_{x∈D_i}(x - m_i)(x-m_i)^T $$ $$ m_i = \\frac{1}{n_i}\\sum_{x∈D_i}x_k  $$"
   ]
  },
  {
   "cell_type": "code",
   "execution_count": 29,
   "metadata": {},
   "outputs": [
    {
     "name": "stdout",
     "output_type": "stream",
     "text": [
      "within-class Scatter Matrix:\n",
      " [[38.9562 13.683  24.614   5.6556]\n",
      " [13.683  17.035   8.12    4.9132]\n",
      " [24.614   8.12   27.22    6.2536]\n",
      " [ 5.6556  4.9132  6.2536  6.1756]]\n"
     ]
    }
   ],
   "source": [
    "S_W = np.zeros((4,4))\n",
    "for cl,mv in zip(range(1,4),mean_vectors):\n",
    "    class_sc_mat = np.zeros((4,4)) # 每一个类的类内散步矩阵\n",
    "    for row in X[y == cl]:\n",
    "        row,mv = row.reshape(4,1),mv.reshape(4,1)\n",
    "        class_sc_mat += (row-mv).dot((row-mv).T)\n",
    "    S_W += class_sc_mat\n",
    "print(\"within-class Scatter Matrix:\\n\",S_W)"
   ]
  },
  {
   "cell_type": "markdown",
   "metadata": {},
   "source": [
    "## 类间散步矩阵：$$ S_B = \\sum_{i=1}^{c}N_i(m_i-m)(m_i-m)^T $$\n",
    "m是全局均值，而$m_i$和$N_i$是每类样本的均值和样本数"
   ]
  },
  {
   "cell_type": "code",
   "execution_count": 30,
   "metadata": {},
   "outputs": [
    {
     "name": "stdout",
     "output_type": "stream",
     "text": [
      "between-class Scatter Matrix:\n",
      " [[ 63.2121 -19.534  165.1647  71.3631]\n",
      " [-19.534   10.9776 -56.0552 -22.4924]\n",
      " [165.1647 -56.0552 436.6437 186.9081]\n",
      " [ 71.3631 -22.4924 186.9081  80.6041]]\n"
     ]
    }
   ],
   "source": [
    "overall_mean = np.mean(X,axis=0)\n",
    "S_B = np.zeros((4,4))\n",
    "for i,mean_vec in enumerate(mean_vectors):\n",
    "    n = X[y==i+1,:].shape[0]\n",
    "    mean_vec = mean_vec.reshape(4,1)\n",
    "    overall_mean = overall_mean.reshape(4,1)\n",
    "    S_B += n*(mean_vec-overall_mean).dot((mean_vec-overall_mean).T)\n",
    "print(\"between-class Scatter Matrix:\\n\",S_B)"
   ]
  },
  {
   "cell_type": "markdown",
   "metadata": {},
   "source": [
    "# $$ 求解矩阵的特征值：S_w^{-1}S_B $$"
   ]
  },
  {
   "cell_type": "code",
   "execution_count": 33,
   "metadata": {},
   "outputs": [
    {
     "name": "stdout",
     "output_type": "stream",
     "text": [
      "特征值：\n",
      " [3.2272e+01 2.7757e-01 3.4225e-15 1.1483e-14]\n",
      "特征向量：\n",
      " [[-0.2049 -0.009  -0.8844 -0.2234]\n",
      " [-0.3871 -0.589   0.2854 -0.2523]\n",
      " [ 0.5465  0.2543  0.258  -0.326 ]\n",
      " [ 0.7138 -0.767   0.2643  0.8833]]\n"
     ]
    }
   ],
   "source": [
    "eig_vals,eig_vecs = np.linalg.eig(np.linalg.inv(S_W).dot(S_B))\n",
    "print(\"特征值：\\n\",eig_vals)\n",
    "print(\"特征向量：\\n\",eig_vecs)"
   ]
  },
  {
   "cell_type": "markdown",
   "metadata": {},
   "source": [
    "## 特征值和特征向量：\n",
    "* 特征向量：表示映射方向\n",
    "* 特征值：特征向量的重要性程度"
   ]
  },
  {
   "cell_type": "code",
   "execution_count": 39,
   "metadata": {},
   "outputs": [
    {
     "name": "stdout",
     "output_type": "stream",
     "text": [
      "特征值递减排序：\n",
      "\n",
      "32.27195779972981\n",
      "0.27756686384003953\n",
      "1.1483362279322388e-14\n",
      "3.422458920849769e-15\n"
     ]
    }
   ],
   "source": [
    "eig_pairs = [(np.abs(eig_vals[i]),eig_vecs[:,i]) for i in range(len(eig_vals))]\n",
    "#排序\n",
    "eig_pairs = sorted(eig_pairs,key=lambda k:k[0],reverse=True)\n",
    "print(\"特征值递减排序：\\n\")\n",
    "for i in eig_pairs:\n",
    "    print(i[0])"
   ]
  },
  {
   "cell_type": "code",
   "execution_count": null,
   "metadata": {
    "collapsed": true
   },
   "outputs": [],
   "source": [
    "eigv_sum = sum(eig_vals)\n",
    "print(\"特征重要性：\")\n",
    "for i,j in enumerate(eig_pairs):\n",
    "    print(\"eigenvalue {0:}: {1:.2%}\".format(i+1,(j[0]/eigv_sum)))"
   ]
  },
  {
   "cell_type": "markdown",
   "metadata": {},
   "source": [
    "## 选择前两维特征"
   ]
  },
  {
   "cell_type": "code",
   "execution_count": 43,
   "metadata": {},
   "outputs": [
    {
     "name": "stdout",
     "output_type": "stream",
     "text": [
      "Matrix W:\n",
      " [[-0.2049 -0.009 ]\n",
      " [-0.3871 -0.589 ]\n",
      " [ 0.5465  0.2543]\n",
      " [ 0.7138 -0.767 ]]\n"
     ]
    }
   ],
   "source": [
    "W = np.hstack((eig_pairs[0][1].reshape(4,1),eig_pairs[1][1].reshape(4,1)))\n",
    "print(\"Matrix W:\\n\",W)"
   ]
  },
  {
   "cell_type": "code",
   "execution_count": 47,
   "metadata": {},
   "outputs": [],
   "source": [
    "#降维\n",
    "X_1da = X.dot(W)\n",
    "assert X_1da.shape == (150,2),\"The matrix is not 150x2 demensional.\""
   ]
  },
  {
   "cell_type": "code",
   "execution_count": null,
   "metadata": {
    "collapsed": true
   },
   "outputs": [],
   "source": []
  }
 ],
 "metadata": {
  "kernelspec": {
   "display_name": "Python 3",
   "language": "python",
   "name": "python3"
  },
  "language_info": {
   "codemirror_mode": {
    "name": "ipython",
    "version": 3
   },
   "file_extension": ".py",
   "mimetype": "text/x-python",
   "name": "python",
   "nbconvert_exporter": "python",
   "pygments_lexer": "ipython3",
   "version": "3.6.3"
  }
 },
 "nbformat": 4,
 "nbformat_minor": 2
}
