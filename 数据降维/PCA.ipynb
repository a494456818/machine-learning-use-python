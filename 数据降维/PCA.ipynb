{
 "cells": [
  {
   "cell_type": "markdown",
   "metadata": {},
   "source": [
    "# PCA降维\n",
    "### 1、用途：降维中最常用的一种手段\n",
    "### 2、目标：提取最有价值的目标（基于方差），LDA基于分类（寻找使不同类别间隔最大的降维方式）\n",
    "### 3、降维方式：无监督的方式，无需知道标签。通过基变换进行降维，那么寻找最优单位基向量（单位向量）是一个问题\n",
    "## 如何进行PCA降维？\n",
    "假设有(3,5)的数据，一行表示一条数据，一列表示一个特征：\n",
    "$$ X = \\left[ \\begin{array} {data}\n",
    "2 & 5 & -1 & -3 & 12\\\\\n",
    "6 & 8 & 9 & 12 & -6\\\\\n",
    "3 & 7 & 5 & -4 & -11\\\\\n",
    "\\end{array} \\right] $$\n",
    "\n",
    "#### 1.将数据中心化，求协方差矩阵C（<font color='red'>特征是主要目标</font>）。\n",
    "抽象的假设数据集 $ D = \\left[ \\begin{array} {data}\n",
    "a_1 & a_2 & a_3 & ... & a_m\\\\\n",
    "b_1 & b_2 & b_3 & ... & b_m\\\\\n",
    "\\end{array} \\right] $，一个简单计算协方差矩阵的方式为：$\\frac{1}{m}DD^T = \\left[ \\begin{array} {data}\n",
    "\\frac{1}{m}\\sum_{i=1}^{m}a_i^2 & \\frac{1}{m}\\sum_{i=1}^{m}a_ib_i\\\\\n",
    "\\frac{1}{m}\\sum_{i=1}^{m}a_ib_i & \\frac{1}{m}\\sum_{i=1}^{m}b_i^2\\\\\n",
    "\\end{array} \\right] $\n",
    "<br>\n",
    "注：协方差的意义：样本的X高于均值, 一般Y也高于均值。相反如果X低于均值Y也低于均值。所以数据中心化的目的就是为了方便观察特征A、B协方差的关系，若是正相关：中心化后的cov(A,B)>0；若负相关：中心化后cov(A,B)< 0。\n",
    "#### 2.将协方差矩阵C对角化，求出特征向量和特征值\n",
    "由1可知，C是一个对角矩阵，对角线为各个特征的方差，非对角线位置为各个特征的协方差。而PCA需要的是最大化方差（特征内部具有最大区分度）以及最小化协方差（各个特征之间无关），其实就是最大化C对角线值，以及使C的非对角线位置为0。 <br>\n",
    "<b>线性代数知识：一个n行n列的实对称矩阵一定可以找到n个单位正交特征向量，使得该矩阵对角化。</b> <br>\n",
    "那么取k个最大的特征值和其对应的特征向量，该特征向量作为基变换的基向量。\n",
    "#### 3.利用基向量降维，相当于做坐标轴的变换（<font color='red'>每一条的数据是主要目标</font>）。"
   ]
  },
  {
   "cell_type": "code",
   "execution_count": 1,
   "metadata": {
    "collapsed": true
   },
   "outputs": [],
   "source": [
    "import numpy as np"
   ]
  },
  {
   "cell_type": "code",
   "execution_count": 2,
   "metadata": {},
   "outputs": [
    {
     "name": "stdout",
     "output_type": "stream",
     "text": [
      "数据集：\n"
     ]
    },
    {
     "data": {
      "text/plain": [
       "array([[ 2,  5, -1, -3, 12],\n",
       "       [ 6,  8,  9, 12, -6],\n",
       "       [ 3,  7,  5, -4, -1]])"
      ]
     },
     "execution_count": 2,
     "metadata": {},
     "output_type": "execute_result"
    }
   ],
   "source": [
    "#1.获取数据(一列表示一条数据，一行表示一个特征)\n",
    "X = np.array([[2,5,-1,-3,12],[6,8,9,12,-6],[3,7,5,-4,-1]]).reshape(3,5)\n",
    "print(\"数据集：\")\n",
    "X"
   ]
  },
  {
   "cell_type": "code",
   "execution_count": 3,
   "metadata": {},
   "outputs": [
    {
     "name": "stdout",
     "output_type": "stream",
     "text": [
      "特征数量：3，数据条数：5\n"
     ]
    }
   ],
   "source": [
    "feature_num,data_num = X.shape\n",
    "print(\"特征数量：{0}，数据条数：{1}\".format(feature_num,data_num))"
   ]
  },
  {
   "cell_type": "code",
   "execution_count": 4,
   "metadata": {},
   "outputs": [
    {
     "name": "stdout",
     "output_type": "stream",
     "text": [
      "中心化后的数据集：\n"
     ]
    },
    {
     "data": {
      "text/plain": [
       "array([[-13, -10, -16, -18,  -3],\n",
       "       [-23, -21, -20, -17, -35],\n",
       "       [ -7,  -3,  -5, -14, -11]])"
      ]
     },
     "execution_count": 4,
     "metadata": {},
     "output_type": "execute_result"
    }
   ],
   "source": [
    "#2.将每个特征中心化\n",
    "centerized_X = X-X.sum(axis=1).reshape(feature_num,1)\n",
    "print(\"中心化后的数据集：\")\n",
    "centerized_X"
   ]
  },
  {
   "cell_type": "code",
   "execution_count": 5,
   "metadata": {},
   "outputs": [
    {
     "data": {
      "text/plain": [
       "array([[ 858, 1240,  486],\n",
       "       [1240, 2884,  947],\n",
       "       [ 486,  947,  400]])"
      ]
     },
     "execution_count": 5,
     "metadata": {},
     "output_type": "execute_result"
    }
   ],
   "source": [
    "#3.计算协方差矩阵\n",
    "C = np.dot(centerized_X,centerized_X.T)\n",
    "C"
   ]
  },
  {
   "cell_type": "code",
   "execution_count": 6,
   "metadata": {},
   "outputs": [
    {
     "name": "stdout",
     "output_type": "stream",
     "text": [
      "C的特征值：\n",
      "[3804.6634843   274.65837262   62.67814309]\n",
      "特征向量：\n",
      "[[ 0.41159125  0.87258305 -0.2630427 ]\n",
      " [ 0.86117249 -0.4668353  -0.20111376]\n",
      " [ 0.29828607  0.14374847  0.94358985]]\n"
     ]
    }
   ],
   "source": [
    "#4.协方差矩阵的特征值以及对应特征向量\n",
    "eigenvalue,featurevector=np.linalg.eig(C)\n",
    "print(\"C的特征值：\\n{0}\\n特征向量：\\n{1}\".format(eigenvalue,featurevector))"
   ]
  },
  {
   "cell_type": "code",
   "execution_count": 7,
   "metadata": {},
   "outputs": [
    {
     "name": "stdout",
     "output_type": "stream",
     "text": [
      "最大的特征向量为：\n",
      "[[ 0.41159125  0.87258305 -0.2630427 ]\n",
      " [ 0.86117249 -0.4668353  -0.20111376]]\n"
     ]
    }
   ],
   "source": [
    "#5.选择k个最大的特征特征向量为基向量，这里将3维特征降到2维特征\n",
    "k = 2\n",
    "k_max_featureValues_index = np.argsort(eigenvalue)[::-1][:k]\n",
    "k_max_featureVec = featurevector[k_max_featureValues_index]\n",
    "print(\"最大的特征向量为：\\n{0}\".format(k_max_featureVec))"
   ]
  },
  {
   "cell_type": "code",
   "execution_count": 8,
   "metadata": {},
   "outputs": [
    {
     "name": "stdout",
     "output_type": "stream",
     "text": [
      "成功将形状为(3, 5)映射形状为(2, 5),特征维度从3变成2\n"
     ]
    }
   ],
   "source": [
    "#6.将原数据X进行基变换\n",
    "k_max_featureVec.shape\n",
    "mapped_X = np.dot(k_max_featureVec,X)\n",
    "print(\"成功将形状为{0}映射形状为{1},特征维度从{2}变成{3}\".format(X.shape,mapped_X.shape,X.shape[0],mapped_X.shape[0]))"
   ]
  },
  {
   "cell_type": "code",
   "execution_count": 9,
   "metadata": {},
   "outputs": [
    {
     "name": "stdout",
     "output_type": "stream",
     "text": [
      "--------映射前---------\n",
      "[[ 2  5 -1 -3 12]\n",
      " [ 6  8  9 12 -6]\n",
      " [ 3  7  5 -4 -1]]\n",
      "--------映射后---------\n",
      "[[ 5.26955273  7.19732181  6.12644272 10.28839362 -0.03336056]\n",
      " [-1.6820081  -0.83661626 -6.06825899 -7.38108604 13.33619545]]\n"
     ]
    }
   ],
   "source": [
    "#7.数据对比\n",
    "print(\"--------映射前---------\")\n",
    "print(X)\n",
    "print(\"--------映射后---------\")\n",
    "print(mapped_X)"
   ]
  },
  {
   "cell_type": "code",
   "execution_count": null,
   "metadata": {
    "collapsed": true
   },
   "outputs": [],
   "source": []
  }
 ],
 "metadata": {
  "kernelspec": {
   "display_name": "Python 3",
   "language": "python",
   "name": "python3"
  },
  "language_info": {
   "codemirror_mode": {
    "name": "ipython",
    "version": 3
   },
   "file_extension": ".py",
   "mimetype": "text/x-python",
   "name": "python",
   "nbconvert_exporter": "python",
   "pygments_lexer": "ipython3",
   "version": "3.6.3"
  }
 },
 "nbformat": 4,
 "nbformat_minor": 2
}
