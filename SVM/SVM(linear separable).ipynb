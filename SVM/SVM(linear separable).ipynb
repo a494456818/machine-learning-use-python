{
 "cells": [
  {
   "cell_type": "markdown",
   "metadata": {},
   "source": [
    "# SVM线性可分算法\n",
    "## 优化目标：\n",
    "### 假设在二维空间有一些点$ x_i=(x_i^{(1)},x_i^{(2)}) $,现在要找出一条直线拟合这些点\n",
    "#### 选择与这些点具有最大的间隔的直线，假设拟合的直线为：$w^Tx_i+b=0$,令$$w^Tx_i+b≥+1,y_i=+1  （1）$$ $$w^Tx_i+b≤-1,y_i=-1（2）$$\n",
    "那么上面两条线之间的间隔为$$ r=\\frac{2}{||w||} （3）$$即我们需要优化的目标是$$ max\\frac{2}{||w||} （4）$$同时必须使得这条直线将训练集分类正确,即$$s.t. y_i(w^Tx_i+b)≥1 ,i=1,2,...,m.（5）$$ 所以我们的优化目标就是：$$ min\\frac{1}{2}||w||^2 $$ $$ s.t.y_i(w^Tx_i+b)≥1 ,i=1,2,...,m. $$\n",
    "#### 这是一个二次规划(QP)问题，有一个python包可以直接求二次规划的结果：CVXOPT，网址：http://cvxopt.org/examples/tutorial/qp.html"
   ]
  },
  {
   "cell_type": "code",
   "execution_count": 1,
   "metadata": {
    "collapsed": true
   },
   "outputs": [],
   "source": [
    "from matplotlib import pyplot as plt\n",
    "import numpy as np\n",
    "from cvxopt import matrix, solvers\n",
    "from sklearn import preprocessing"
   ]
  },
  {
   "cell_type": "code",
   "execution_count": 2,
   "metadata": {},
   "outputs": [
    {
     "data": {
      "image/png": "[encoded data removed]",
      "text/plain": [
       "<matplotlib.figure.Figure at 0x209d8e31c18>"
      ]
     },
     "metadata": {},
     "output_type": "display_data"
    }
   ],
   "source": [
    "#x-y>0\n",
    "X = np.array([[1,1.5],[2,4.5],[0.5,2.5],[1,6],[3,5],[3.5,4.5]])\n",
    "y = [1,1,-1,-1,1,1]\n",
    "#对X归一化\n",
    "min_max_scaler = preprocessing.MinMaxScaler()\n",
    "X = min_max_scaler.fit_transform(X)\n",
    "\n",
    "\n",
    "plt.scatter(X[:,0],X[:,1])\n",
    "plt.show()"
   ]
  },
  {
   "cell_type": "code",
   "execution_count": 3,
   "metadata": {},
   "outputs": [
    {
     "name": "stdout",
     "output_type": "stream",
     "text": [
      "[ 0.00e+00  0.00e+00  0.00e+00]\n",
      "[ 0.00e+00  1.00e+00  0.00e+00]\n",
      "[ 0.00e+00  0.00e+00  1.00e+00]\n",
      "\n",
      "[ 0.00e+00]\n",
      "[ 0.00e+00]\n",
      "[ 0.00e+00]\n",
      "\n",
      "[ 1.00e+00  1.67e-01  0.00e+00]\n",
      "[ 1.00e+00  5.00e-01  6.67e-01]\n",
      "[-1.00e+00 -0.00e+00 -2.22e-01]\n",
      "[-1.00e+00 -1.67e-01 -1.00e+00]\n",
      "[ 1.00e+00  8.33e-01  7.78e-01]\n",
      "[ 1.00e+00  1.00e+00  6.67e-01]\n",
      "\n",
      "[ 1.00e+00]\n",
      "[ 1.00e+00]\n",
      "[ 1.00e+00]\n",
      "[ 1.00e+00]\n",
      "[ 1.00e+00]\n",
      "[ 1.00e+00]\n",
      "\n",
      "****************************************************************************************************\n",
      "     pcost       dcost       gap    pres   dres\n",
      " 0:  4.0670e-01 -4.6661e+00  5e+00  5e-17  7e+00\n",
      " 1:  6.7978e-02 -6.3576e-01  7e-01  2e-16  1e+00\n",
      " 2:  1.3106e-04 -4.7466e-02  5e-02  2e-16  5e-02\n",
      " 3:  1.4491e-08 -4.9007e-04  5e-04  2e-16  5e-04\n",
      " 4:  1.4491e-12 -4.9008e-06  5e-06  1e-16  5e-06\n",
      " 5:  1.4491e-16 -4.9009e-08  5e-08  2e-16  5e-08\n",
      "Optimal solution found.\n",
      "[ 4.24e-01]\n",
      "[ 1.41e-08]\n",
      "[ 9.59e-09]\n",
      "\n"
     ]
    }
   ],
   "source": [
    "def SVM(X,y):\n",
    "    '''\n",
    "    X:一列为一条数据\n",
    "    y：列向量\n",
    "    '''\n",
    "    X = np.r_[np.array([1]*X.shape[1]).reshape(1,X.shape[1]),X]\n",
    "    row,col = X.shape\n",
    "    w = np.random.rand(row).reshape((row,1)) #w的第一个数为截距,假设w.T=[w0,w1,w2]，w.T*x = w0+w1*x1+x2*x2\n",
    "    Q = np.eye(row,row)\n",
    "    Q[0,0] = 0.0\n",
    "    Q = matrix(Q)\n",
    "    p = matrix(np.zeros((row,1)))\n",
    "    A = matrix((y*X).T)\n",
    "    c = matrix(np.array([1.0]*(col)).reshape((1,col)).T)\n",
    "    \n",
    "    print(Q)\n",
    "    print(p)\n",
    "    print(A)\n",
    "    print(c)\n",
    "    #sol=solvers.qp(Q, p, G, h, A, b)\n",
    "    print(\"*\"*100)\n",
    "    sol=solvers.qp(Q, p, A, c)\n",
    "    return sol\n",
    "\n",
    "X = np.array(X)\n",
    "y = np.array(y)\n",
    "sol = SVM(X.T,y.T)\n",
    "print(sol['x'])  # 打印结果，sol里面还有很多其他属性，读者可以自行了解"
   ]
  },
  {
   "cell_type": "code",
   "execution_count": 4,
   "metadata": {},
   "outputs": [
    {
     "data": {
      "image/png": "[encoded data removed]",
      "text/plain": [
       "<matplotlib.figure.Figure at 0x209ddc2ecc0>"
      ]
     },
     "metadata": {},
     "output_type": "display_data"
    }
   ],
   "source": [
    "w = sol['x']\n",
    "w0 = w[0]\n",
    "w1 = w[1]\n",
    "w2 = w[2]\n",
    "#为X添加w0所对应的那一行\n",
    "X_line = np.r_[np.array([1]*X.T.shape[1]).reshape(1,X.T.shape[1]),X.T]\n",
    "w = np.array(w)\n",
    "\n",
    "x_1 = np.random.rand(30)\n",
    "x_2 = -(w0+w1*x_1)/w2\n",
    "\n",
    "plt.scatter(X[:,0],X[:,1])\n",
    "plt.plot(x_1,x_2)\n",
    "plt.show()\n"
   ]
  },
  {
   "cell_type": "markdown",
   "metadata": {},
   "source": [
    "# 下面没用"
   ]
  },
  {
   "cell_type": "code",
   "execution_count": null,
   "metadata": {
    "collapsed": true
   },
   "outputs": [],
   "source": []
  },
  {
   "cell_type": "code",
   "execution_count": null,
   "metadata": {
    "collapsed": true
   },
   "outputs": [],
   "source": []
  },
  {
   "cell_type": "code",
   "execution_count": 34,
   "metadata": {},
   "outputs": [
    {
     "name": "stdout",
     "output_type": "stream",
     "text": [
      "     pcost       dcost       gap    pres   dres\n",
      " 0:  1.0780e+02 -7.6366e+02  9e+02  4e-17  4e+01\n",
      " 1:  9.3245e+01  9.7637e+00  8e+01  8e-17  3e+00\n",
      " 2:  6.7311e+01  3.2553e+01  3e+01  8e-17  1e+00\n",
      " 3:  2.6071e+01  1.5068e+01  1e+01  7e-17  7e-01\n",
      " 4:  3.7092e+01  2.3152e+01  1e+01  1e-16  4e-01\n",
      " 5:  2.5352e+01  1.8652e+01  7e+00  9e-17  4e-16\n",
      " 6:  2.0062e+01  1.9974e+01  9e-02  7e-17  2e-16\n",
      " 7:  2.0001e+01  2.0000e+01  9e-04  8e-17  2e-16\n",
      " 8:  2.0000e+01  2.0000e+01  9e-06  1e-16  2e-16\n",
      "Optimal solution found.\n",
      "[ 7.13e-07]\n",
      "[ 5.00e+00]\n",
      "\n"
     ]
    }
   ],
   "source": [
    "P = matrix([[1.0,0.0],[0.0,0.0]])   # matrix里区分int和double，所以数字后面都需要加小数点\n",
    "q = matrix([3.0,4.0])\n",
    "G = matrix([[-1.0,0.0,-1.0,2.0,3.0],[0.0,-1.0,-3.0,5.0,4.0]])\n",
    "h = matrix([0.0,0.0,-15.0,100.0,80.0])\n",
    "sol = solvers.qp(P,q,G,h)   # 调用优化函数solvers.qp求解\n",
    "print(sol['x'])  # 打印结果，sol里面还有很多其他属性，读者可以自行了解"
   ]
  },
  {
   "cell_type": "code",
   "execution_count": 80,
   "metadata": {},
   "outputs": [
    {
     "name": "stdout",
     "output_type": "stream",
     "text": [
      "[ 1.00e+00  0.00e+00]\n",
      "[ 0.00e+00  0.00e+00]\n",
      "\n",
      "[ 3.00e+00]\n",
      "[ 4.00e+00]\n",
      "\n",
      "[-1.00e+00  0.00e+00]\n",
      "[ 0.00e+00 -1.00e+00]\n",
      "[-1.00e+00 -3.00e+00]\n",
      "[ 2.00e+00  5.00e+00]\n",
      "[ 3.00e+00  4.00e+00]\n",
      "\n",
      "[ 0.00e+00]\n",
      "[ 0.00e+00]\n",
      "[-1.50e+01]\n",
      "[ 1.00e+02]\n",
      "[ 8.00e+01]\n",
      "\n"
     ]
    }
   ],
   "source": [
    "P = matrix([[1.0, 0.0], [0.0, 0.0]])\n",
    "q = matrix([3.0, 4.0])\n",
    "G = matrix([[-1.0, 0.0, -1.0, 2.0, 3.0], [0.0, -1.0, -3.0, 5.0, 4.0]])\n",
    "h = matrix([0.0, 0.0, -15.0, 100.0, 80.0])\n",
    "\n",
    "print(P)\n",
    "print(q)\n",
    "print(G)\n",
    "print(h)"
   ]
  },
  {
   "cell_type": "code",
   "execution_count": null,
   "metadata": {
    "collapsed": true
   },
   "outputs": [],
   "source": []
  }
 ],
 "metadata": {
  "kernelspec": {
   "display_name": "Python 3",
   "language": "python",
   "name": "python3"
  },
  "language_info": {
   "codemirror_mode": {
    "name": "ipython",
    "version": 3
   },
   "file_extension": ".py",
   "mimetype": "text/x-python",
   "name": "python",
   "nbconvert_exporter": "python",
   "pygments_lexer": "ipython3",
   "version": "3.6.3"
  }
 },
 "nbformat": 4,
 "nbformat_minor": 2
}
