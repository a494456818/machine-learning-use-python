{
 "cells": [
  {
   "cell_type": "markdown",
   "metadata": {},
   "source": [
    "# 逻辑回归（多分类）\n",
    "## 1. 多分类逻辑回归模型\n",
    "![img/multiClass-lg.svg](img/multiClass-lg.svg)\n",
    "## 2. 逻辑回归的损失函数\n",
    "$$ J(W)=-\\frac{1}{m}[\\sum_{i=1}^m\\sum_{j=1}^k 1\\{y^{(i)}==j\\}log\\frac{e^{W_j^Tx^{(i)}}}{\\sum_{l=1}^{k}e^{W_l^Tx^{(i)}}}] $$ \n",
    "其中，k — 标签数，$ W_j^T $ — 类标为j的权重向量的转置 ,m — 样本数量\n",
    "## 3. 损失函数求导\n",
    "$$ \\frac{∂J(W)}{∂W_j}=-\\frac{1}{m}\\sum_{i=1}^m[x^{(i)}(1\\{y^{(i)}=j\\}-p(y^{(i)}=j|x^{(i)};W))] $$\n",
    "其中，$ p(y=k|X)=softmax(W_k^T X)=\\frac{exp(W_k^T X)}{\\sum_{i=1}^{K}exp(W_i^T X)} $\n",
    "## 4. 梯度上升\n",
    "$$ W_i=W_i+lr*\\frac{∂J(W)}{∂W_i}$$"
   ]
  },
  {
   "cell_type": "code",
   "execution_count": 1,
   "metadata": {
    "collapsed": true
   },
   "outputs": [],
   "source": [
    "from numpy import *\n",
    "import pandas as pd\n",
    "import matplotlib.pyplot as plt\n",
    "from sklearn.model_selection import train_test_split\n",
    "from sklearn.metrics import accuracy_score"
   ]
  },
  {
   "cell_type": "code",
   "execution_count": 2,
   "metadata": {},
   "outputs": [],
   "source": [
    "#读取数据\n",
    "def loadDataSet():\n",
    "    data = pd.read_csv('../dataset/iris-1.csv').values\n",
    "    X = data[:,:-1]\n",
    "    y = data[:,-1]\n",
    "    y = y.astype(\"int\")\n",
    "    X_train, X_test, y_train, y_test = train_test_split(X, y, test_size=0.33, random_state=42)\n",
    "    return X_train, X_test, y_train, y_test\n",
    "\n",
    "#定义sigmoid函数\n",
    "def sigmoid(inX):\n",
    "    return 1.0/(1+exp(-inX))\n",
    "\n",
    "#定义exp函数\n",
    "def exp(inX):\n",
    "    return (inX)\n",
    "\n",
    "#输入数据特征与数据的类别标签\n",
    "#返回最佳回归系数(weights)\n",
    "def gradAscent(dataMatIn, classLabels, iter_num=10):\n",
    "    #转换为numpy型\n",
    "    dataMatrix = mat(dataMatIn) \n",
    "    # 转化为矩阵[[0,1,0,1,0,1.....]]，并转制[[0],[1],[0].....] \n",
    "    # transpose() 行列转置函数\n",
    "    # 将行向量转化为列向量   =>  矩阵的转置\n",
    "    labelMat = mat(classLabels).transpose()\n",
    "    # m->数据量，样本数 n->特征数\n",
    "    m,n = shape(dataMatrix)\n",
    "    # 自动获取类标\n",
    "    label = list(unique(list(labelMat)))\n",
    "    weights = {} # 每个类标都有权重\n",
    "    # 初始化权重向量,每个维度均为1.0\n",
    "    for c in label:\n",
    "        weights['W'+str(c)] = random.rand(n,1) # 标签为i对应的权重\n",
    "    \n",
    "    lr = 0.0001 #学习率\n",
    "    \n",
    "    for k in range(iter_num):\n",
    "        #求预测为c标签的损失值\n",
    "        loss = {}\n",
    "        # 求预测为c标签的概率\n",
    "        pro = {}\n",
    "        sum_pro = zeros((m,1))\n",
    "        for c in label:\n",
    "            pro[\"W\"+str(c)] = exp(dataMatrix*weights['W'+str(c)])\n",
    "            sum_pro += pro[\"W\"+str(c)]\n",
    "            \n",
    "        for i in pro:\n",
    "            pro[i] /= sum_pro\n",
    "        \n",
    "        # 按列拼接pro\n",
    "        np_pro = None\n",
    "        for i in pro:\n",
    "            try:\n",
    "                np_pro = c_[np_pro,pro[i]]\n",
    "            except:\n",
    "                np_pro = pro[i]\n",
    "            \n",
    "        # 计算每个数据所属的类\n",
    "        predictIndex = argmax(np_pro,axis=1)\n",
    "        # 类标映射\n",
    "        predict = []\n",
    "        for i in array(predictIndex).flatten():\n",
    "            predict.append(label[i])\n",
    "        predict = array(predict).reshape(len(predict),1)\n",
    "        # 更新权重\n",
    "        for c in label:\n",
    "            weights[\"W\"+str(c)] -= lr*(1/m)*dataMatrix.T*(where(predict==labelMat,0,1)-pro[\"W\"+str(c)])\n",
    "        \n",
    "    return weights,label\n",
    "\n",
    "# 预测\n",
    "def predict(dataMatIn,weights,label):\n",
    "    dataMatrix = mat(dataMatIn)\n",
    "    pro = {}\n",
    "    for key in weights:\n",
    "        pro[key] = dataMatrix*weights[key]\n",
    "    # 按列拼接pro\n",
    "    np_pro = None\n",
    "    for i in pro:\n",
    "        try:\n",
    "            np_pro = c_[np_pro,pro[i]]\n",
    "        except:\n",
    "            np_pro = pro[i]\n",
    "    predictIndex = argmax(np_pro,axis=1)\n",
    "    # 类标映射\n",
    "    predict = []\n",
    "    for i in array(predictIndex).flatten():\n",
    "        predict.append(label[i])\n",
    "    print(predict)\n",
    "    return predict"
   ]
  },
  {
   "cell_type": "code",
   "execution_count": 5,
   "metadata": {},
   "outputs": [
    {
     "name": "stdout",
     "output_type": "stream",
     "text": [
      "[1, 0, 1, 1, 1, 0, 1, 1, 1, 1, 1, 0, 0, 0, 0, 1, 1, 1, 1, 1, 0, 1, 0, 1, 1, 1, 1, 1, 0, 0, 0, 0, 1, 0, 0, 1, 1, 0, 0, 0, 1, 1, 1, 0, 0, 1, 1, 1, 1, 1]\n",
      "my_acc_rate : 0.68\n"
     ]
    },
    {
     "name": "stderr",
     "output_type": "stream",
     "text": [
      "G:\\Anaconda3\\lib\\site-packages\\sklearn\\linear_model\\logistic.py:433: FutureWarning: Default solver will be changed to 'lbfgs' in 0.22. Specify a solver to silence this warning.\n",
      "  FutureWarning)\n",
      "G:\\Anaconda3\\lib\\site-packages\\sklearn\\linear_model\\logistic.py:460: FutureWarning: Default multi_class will be changed to 'auto' in 0.22. Specify the multi_class option to silence this warning.\n",
      "  \"this warning.\", FutureWarning)\n"
     ]
    },
    {
     "data": {
      "text/plain": [
       "0.94"
      ]
     },
     "execution_count": 5,
     "metadata": {},
     "output_type": "execute_result"
    }
   ],
   "source": [
    "X_train, X_test, y_train, y_test = loadDataSet()\n",
    "weights,label = gradAscent(X_train,y_train,50)\n",
    "y_pre = predict(X_test,weights,label)\n",
    "my_acc_rate = accuracy_score(y_test, y_pre)\n",
    "print(\"my_acc_rate : \" + str(my_acc_rate))\n",
    "# 调用API的逻辑回归\n",
    "from sklearn.linear_model import LogisticRegression\n",
    "clf = LogisticRegression(random_state=0).fit(X_train, y_train)\n",
    "clf.score(X_test,y_test)"
   ]
  },
  {
   "cell_type": "code",
   "execution_count": null,
   "metadata": {
    "collapsed": true
   },
   "outputs": [],
   "source": []
  },
  {
   "cell_type": "code",
   "execution_count": null,
   "metadata": {
    "collapsed": true
   },
   "outputs": [],
   "source": []
  }
 ],
 "metadata": {
  "kernelspec": {
   "display_name": "Python 3",
   "language": "python",
   "name": "python3"
  },
  "language_info": {
   "codemirror_mode": {
    "name": "ipython",
    "version": 3
   },
   "file_extension": ".py",
   "mimetype": "text/x-python",
   "name": "python",
   "nbconvert_exporter": "python",
   "pygments_lexer": "ipython3",
   "version": "3.6.3"
  }
 },
 "nbformat": 4,
 "nbformat_minor": 2
}
