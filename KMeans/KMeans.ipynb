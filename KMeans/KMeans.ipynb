{
 "cells": [
  {
   "cell_type": "code",
   "execution_count": 1,
   "metadata": {
    "collapsed": true
   },
   "outputs": [],
   "source": [
    "from sklearn.datasets import load_iris\n",
    "import numpy as np"
   ]
  },
  {
   "cell_type": "code",
   "execution_count": 17,
   "metadata": {
    "collapsed": false
   },
   "outputs": [],
   "source": [
    "#使用鸢尾花数据集,该数据集用于无监督学习的KMeans中，y无需使用\n",
    "X,y = load_iris(return_X_y=True)"
   ]
  },
  {
   "cell_type": "code",
   "execution_count": 79,
   "metadata": {
    "collapsed": true
   },
   "outputs": [],
   "source": [
    "def randomCents(dataSet,k):\n",
    "    '''\n",
    "    随机生成k个聚类中心\n",
    "    \n",
    "    dataSet:无标签的数据集\n",
    "    k:要形成簇的数量\n",
    "    '''\n",
    "    m,n = dataSet.shape\n",
    "    \n",
    "    max_value = max(dataSet.max(axis=0))#数据集中的最大值\n",
    "    min_value = min(dataSet.min(axis=0))#数据集中的最小值\n",
    "    \n",
    "    #k个簇就会有k个中心,所以中心的维度为k行,n列\n",
    "    k_cents = np.random.randint(min_value,max_value+2,(k,n))+np.random.rand(k,n)\n",
    "    \n",
    "    return k_cents\n",
    "\n",
    "def euclid_distance(dataSet,cent):\n",
    "    '''\n",
    "    使用欧几里得距离来计算每一个样本到质心的距离\n",
    "    dataSet:需要求距离的数据集\n",
    "    cent:一个中心\n",
    "    '''\n",
    "    k = cent.shape[0]\n",
    "    return np.sum((dataSet-cent)**2,axis=1) #全部数据集到cent点的距离\n",
    "    \n",
    "#KMeans方法进行聚类\n",
    "def KMeans(dataSet,k=3,measure_method=euclid_distance,min_iterator=1000):\n",
    "    '''\n",
    "    dataSet:无标签的数据集\n",
    "    k:要形成簇的数量\n",
    "    measure_method:距离测量的方法，默认使用欧氏距离\n",
    "    min_iterator:聚类操作最小的迭代次数\n",
    "    '''\n",
    "    #随机生成k个中心\n",
    "    k_cents = randomCents(dataSet,k)\n",
    "    #结束迭代的标识。当类簇中心不再发生变化时，end=True停止迭代\n",
    "    end = False\n",
    "    iterator = 1\n",
    "    while not end or iterator<=min_iterator:\n",
    "        #在某个簇中的数据集的角标,数据格式{\"cluster1\":[1,3,5,7]}表示cluster1中有dataSet[1],dataSet[3]\n",
    "        cluster_map = {}\n",
    "        #k_distances:(dataSet.row,k),k列表示数据到第k个簇的距离\n",
    "        k_distances = None\n",
    "        #计算数据集到每个簇的距离\n",
    "        for i in range(k):\n",
    "            distances = euclid_distance(dataSet,k_cents[i])\n",
    "            distances = distances.reshape(distances.shape[0],1)\n",
    "            if k_distances is None:\n",
    "                k_distances = distances\n",
    "            else:\n",
    "                k_distances = np.concatenate((k_distances,distances),axis=1)\n",
    "        #根据距离判断一行数据所属于哪一个簇\n",
    "        #data_clusters存储的就是数据所属的类别\n",
    "        data_clusters = np.argsort(k_distances,axis=1)[:,0].reshape(k_distances.shape[0],1)#按行升序排序后再选择第一列即为最小距离所在的角标\n",
    "        \n",
    "        t = 0 #记录是否k个簇中心都不变\n",
    "        for i in range(k):\n",
    "            #dataset_index_in_cluster属于i类的行号\n",
    "            dataset_index_in_cluster = np.array(np.where(data_clusters==i))[0]\n",
    "            #簇中没有元素，中心不变\n",
    "            if len(dataset_index_in_cluster) == 0:\n",
    "                cent = k_cents[i]\n",
    "            else:\n",
    "                cent = dataSet[dataset_index_in_cluster].mean(axis=0)\n",
    "            #如果cent和k_cents[i]中的每一个元素都相等\n",
    "            if (cent == k_cents[i]).astype(\"int\").sum(axis=0) == cent.shape[0]:\n",
    "                t += 1\n",
    "            else:\n",
    "                k_cents[i] = cent\n",
    "            \n",
    "            #保存簇中的元素\n",
    "            cluster_map[\"cluster\"+str(i+1)] = dataset_index_in_cluster   \n",
    "            \n",
    "        if t == k:\n",
    "            end = True\n",
    "        \n",
    "        iterator+=1\n",
    "            \n",
    "    for i in range(k):\n",
    "        print(\"第%d个聚类中心信息：\"%(i+1))\n",
    "        print(k_cents[i])\n",
    "        print(cluster_map[\"cluster\"+str(i+1)])\n"
   ]
  },
  {
   "cell_type": "code",
   "execution_count": 80,
   "metadata": {
    "collapsed": false,
    "scrolled": false
   },
   "outputs": [
    {
     "name": "stdout",
     "output_type": "stream",
     "text": [
      "第1个聚类中心信息：\n",
      "[ 5.006  3.418  1.464  0.244]\n",
      "[ 0  1  2  3  4  5  6  7  8  9 10 11 12 13 14 15 16 17 18 19 20 21 22 23 24\n",
      " 25 26 27 28 29 30 31 32 33 34 35 36 37 38 39 40 41 42 43 44 45 46 47 48 49]\n",
      "第2个聚类中心信息：\n",
      "[ 5.9016129   2.7483871   4.39354839  1.43387097]\n",
      "[ 50  51  53  54  55  56  57  58  59  60  61  62  63  64  65  66  67  68\n",
      "  69  70  71  72  73  74  75  76  78  79  80  81  82  83  84  85  86  87\n",
      "  88  89  90  91  92  93  94  95  96  97  98  99 101 106 113 114 119 121\n",
      " 123 126 127 133 138 142 146 149]\n",
      "第3个聚类中心信息：\n",
      "[ 6.85        3.07368421  5.74210526  2.07105263]\n",
      "[ 52  77 100 102 103 104 105 107 108 109 110 111 112 115 116 117 118 120\n",
      " 122 124 125 128 129 130 131 132 134 135 136 137 139 140 141 143 144 145\n",
      " 147 148]\n"
     ]
    }
   ],
   "source": [
    "KMeans(X,3)"
   ]
  },
  {
   "cell_type": "code",
   "execution_count": 81,
   "metadata": {
    "collapsed": false
   },
   "outputs": [],
   "source": [
    "cents = randomCents(X,3)\n",
    "distances = euclid_distance(X,cents[0])\n",
    "distances = distances.reshape(distances.shape[0],1)\n",
    "a=np.concatenate((distances,distances),axis=1)"
   ]
  },
  {
   "cell_type": "code",
   "execution_count": null,
   "metadata": {
    "collapsed": true
   },
   "outputs": [],
   "source": []
  }
 ],
 "metadata": {
  "kernelspec": {
   "display_name": "Python 3",
   "language": "python",
   "name": "python3"
  },
  "language_info": {
   "codemirror_mode": {
    "name": "ipython",
    "version": 3
   },
   "file_extension": ".py",
   "mimetype": "text/x-python",
   "name": "python",
   "nbconvert_exporter": "python",
   "pygments_lexer": "ipython3",
   "version": "3.6.0"
  }
 },
 "nbformat": 4,
 "nbformat_minor": 2
}
