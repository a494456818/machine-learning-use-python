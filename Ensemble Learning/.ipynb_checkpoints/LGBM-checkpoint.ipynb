{
 "cells": [
  {
   "cell_type": "code",
   "execution_count": 211,
   "metadata": {
    "collapsed": true
   },
   "outputs": [],
   "source": [
    "import lightgbm as lgb\n",
    "import pandas as pd\n",
    "import numpy as np\n",
    "import pickle\n",
    "from sklearn.metrics import roc_auc_score\n",
    "from sklearn.model_selection import train_test_split\n",
    "from sklearn.datasets import load_breast_cancer\n",
    "from sklearn.preprocessing import LabelBinarizer\n",
    "from matplotlib import pyplot as plt\n",
    "import seaborn as sbn\n",
    "from sklearn import metrics\n",
    "\n",
    "%matplotlib inline"
   ]
  },
  {
   "cell_type": "code",
   "execution_count": 195,
   "metadata": {
    "collapsed": true
   },
   "outputs": [],
   "source": [
    "def handle_one_hot(df,column,isDelete=True):\n",
    "    '''\n",
    "    进行one-hot编码\n",
    "    df:要进行onehot编码的df\n",
    "    column：onehot编码的列\n",
    "    isDelete：编码后是否删除column\n",
    "    '''\n",
    "    if type(column).__name__ == \"str\":\n",
    "        dummies = pd.get_dummies(df[column])\n",
    "        df = pd.concat([df,dummies],axis=1,sort=False)\n",
    "        if isDelete:\n",
    "            df.drop(columns=column,axis=1,inplace=True)\n",
    "        return df\n",
    "    elif type(column).__name__ == \"list\":\n",
    "        for c in column:\n",
    "            dummies = pd.get_dummies(df[c])\n",
    "            df = pd.concat([df,dummies],axis=1,sort=False)\n",
    "            if isDelete:\n",
    "                df.drop(columns=c,axis=1,inplace=True)\n",
    "        return df\n",
    "    else:\n",
    "        print(\"有误！\")\n",
    "\n",
    "def plot_corr_matrix(df):\n",
    "    cor = df.corr()\n",
    "    plt.subplots(figsize=(18, 18)) # 设置画面大小\n",
    "    sbn.heatmap(cor, annot=True, vmax=1, square=True, cmap=\"Blues\")\n",
    "        \n",
    "def get_data():\n",
    "    '''\n",
    "    lgbm算法的数据集必须是：int，float，bool类型\n",
    "    '''\n",
    "    df = pd.read_csv(\"../dataset/bank_marketing_dataset/bank/bank-full.csv\",sep=\";\")\n",
    "    \n",
    "    #print(df.info())\n",
    "    \n",
    "    #df.hist(figsize=(20,15))\n",
    "    \n",
    "    df = handle_one_hot(df,[\"job\",\"marital\",\"education\",\"default\",\"housing\",\"loan\",\"contact\",\"month\",\"poutcome\"])\n",
    "    \n",
    "    df[df[\"y\"] == \"yes\"] = 1\n",
    "    df[df[\"y\"] == \"no\"] = 0\n",
    "    \n",
    "    y = df[\"y\"]\n",
    "    X = df.drop(\"y\",axis=1)\n",
    "    \n",
    "    return X,y\n",
    "\n",
    "#get_data()"
   ]
  },
  {
   "cell_type": "code",
   "execution_count": 196,
   "metadata": {},
   "outputs": [
    {
     "name": "stdout",
     "output_type": "stream",
     "text": [
      "Loading Data ... \n"
     ]
    }
   ],
   "source": [
    "print(\"Loading Data ... \")\n",
    "# 导入数据\n",
    "train_x, train_y = get_data()\n",
    "# 用sklearn.cross_validation进行训练数据集划分，这里训练集和交叉验证集比例为7：3，可以自己根据需要设置\n",
    "X, val_X, y, val_y = train_test_split(\n",
    "    train_x,\n",
    "    train_y,\n",
    "    test_size=0.3,\n",
    "    random_state=1,\n",
    "    stratify=train_y ## 这里保证分割后y的比例分布与原数据一致\n",
    ")\n",
    "X_train = X\n",
    "y_train = y\n",
    "X_test = val_X\n",
    "y_test = val_y\n"
   ]
  },
  {
   "cell_type": "code",
   "execution_count": 197,
   "metadata": {
    "collapsed": true
   },
   "outputs": [],
   "source": [
    "# create dataset for lightgbm\n",
    "lgb_train = lgb.Dataset(X_train, y_train)\n",
    "lgb_eval = lgb.Dataset(X_test, y_test, reference=lgb_train)\n",
    "# specify your configurations as a dict\n",
    "params = {\n",
    "    'boosting_type': 'gbdt',\n",
    "    'objective': 'binary',\n",
    "    'metric': {'binary_logloss', 'auc'},\n",
    "    'num_leaves': 5,\n",
    "    'max_depth': 6,\n",
    "    'min_data_in_leaf': 450,\n",
    "    'learning_rate': 0.1,\n",
    "    'feature_fraction': 0.9,\n",
    "    'bagging_fraction': 0.95,\n",
    "    'bagging_freq': 5,\n",
    "    'lambda_l1': 1,  \n",
    "    'lambda_l2': 0.001,  # 越小l2正则程度越高\n",
    "    'min_gain_to_split': 0.2,\n",
    "    'verbose': 5,\n",
    "    'is_unbalance': True,\n",
    "    'min_data':1\n",
    "}"
   ]
  },
  {
   "cell_type": "code",
   "execution_count": 199,
   "metadata": {},
   "outputs": [
    {
     "name": "stdout",
     "output_type": "stream",
     "text": [
      "Start training...\n",
      "[1]\tvalid_0's binary_logloss: 0.266932\tvalid_0's auc: 1\n",
      "Training until validation scores don't improve for 500 rounds.\n",
      "[2]\tvalid_0's binary_logloss: 0.221444\tvalid_0's auc: 1\n",
      "[3]\tvalid_0's binary_logloss: 0.189179\tvalid_0's auc: 1\n",
      "[4]\tvalid_0's binary_logloss: 0.164072\tvalid_0's auc: 1\n",
      "[5]\tvalid_0's binary_logloss: 0.143636\tvalid_0's auc: 1\n",
      "[6]\tvalid_0's binary_logloss: 0.126553\tvalid_0's auc: 1\n",
      "[7]\tvalid_0's binary_logloss: 0.112023\tvalid_0's auc: 1\n",
      "[8]\tvalid_0's binary_logloss: 0.0995143\tvalid_0's auc: 1\n",
      "[9]\tvalid_0's binary_logloss: 0.088648\tvalid_0's auc: 1\n",
      "[10]\tvalid_0's binary_logloss: 0.0791446\tvalid_0's auc: 1\n",
      "[11]\tvalid_0's binary_logloss: 0.0707891\tvalid_0's auc: 1\n",
      "[12]\tvalid_0's binary_logloss: 0.0634117\tvalid_0's auc: 1\n",
      "[13]\tvalid_0's binary_logloss: 0.0568755\tvalid_0's auc: 1\n",
      "[14]\tvalid_0's binary_logloss: 0.0510683\tvalid_0's auc: 1\n",
      "[15]\tvalid_0's binary_logloss: 0.0458965\tvalid_0's auc: 1\n",
      "[16]\tvalid_0's binary_logloss: 0.0412814\tvalid_0's auc: 1\n",
      "[17]\tvalid_0's binary_logloss: 0.0371563\tvalid_0's auc: 1\n",
      "[18]\tvalid_0's binary_logloss: 0.0334636\tvalid_0's auc: 1\n",
      "[19]\tvalid_0's binary_logloss: 0.030154\tvalid_0's auc: 1\n",
      "[20]\tvalid_0's binary_logloss: 0.0271846\tvalid_0's auc: 1\n",
      "[21]\tvalid_0's binary_logloss: 0.0245178\tvalid_0's auc: 1\n",
      "[22]\tvalid_0's binary_logloss: 0.0221208\tvalid_0's auc: 1\n",
      "[23]\tvalid_0's binary_logloss: 0.0199648\tvalid_0's auc: 1\n",
      "[24]\tvalid_0's binary_logloss: 0.0180243\tvalid_0's auc: 1\n",
      "[25]\tvalid_0's binary_logloss: 0.0162769\tvalid_0's auc: 1\n",
      "[26]\tvalid_0's binary_logloss: 0.0147024\tvalid_0's auc: 1\n",
      "[27]\tvalid_0's binary_logloss: 0.0132832\tvalid_0's auc: 1\n",
      "[28]\tvalid_0's binary_logloss: 0.0120035\tvalid_0's auc: 1\n",
      "[29]\tvalid_0's binary_logloss: 0.0108491\tvalid_0's auc: 1\n",
      "[30]\tvalid_0's binary_logloss: 0.00980748\tvalid_0's auc: 1\n",
      "[31]\tvalid_0's binary_logloss: 0.00886731\tvalid_0's auc: 1\n",
      "[32]\tvalid_0's binary_logloss: 0.00801851\tvalid_0's auc: 1\n",
      "[33]\tvalid_0's binary_logloss: 0.00725203\tvalid_0's auc: 1\n",
      "[34]\tvalid_0's binary_logloss: 0.00655975\tvalid_0's auc: 1\n",
      "[35]\tvalid_0's binary_logloss: 0.00593438\tvalid_0's auc: 1\n",
      "[36]\tvalid_0's binary_logloss: 0.00536935\tvalid_0's auc: 1\n",
      "[37]\tvalid_0's binary_logloss: 0.00485878\tvalid_0's auc: 1\n",
      "[38]\tvalid_0's binary_logloss: 0.00439735\tvalid_0's auc: 1\n",
      "[39]\tvalid_0's binary_logloss: 0.00398028\tvalid_0's auc: 1\n",
      "[40]\tvalid_0's binary_logloss: 0.00360327\tvalid_0's auc: 1\n",
      "[41]\tvalid_0's binary_logloss: 0.00326244\tvalid_0's auc: 1\n",
      "[42]\tvalid_0's binary_logloss: 0.00295429\tvalid_0's auc: 1\n",
      "[43]\tvalid_0's binary_logloss: 0.00267567\tvalid_0's auc: 1\n",
      "[44]\tvalid_0's binary_logloss: 0.00242372\tvalid_0's auc: 1\n",
      "[45]\tvalid_0's binary_logloss: 0.00219589\tvalid_0's auc: 1\n",
      "[46]\tvalid_0's binary_logloss: 0.00198985\tvalid_0's auc: 1\n",
      "[47]\tvalid_0's binary_logloss: 0.0018035\tvalid_0's auc: 1\n",
      "[48]\tvalid_0's binary_logloss: 0.00163496\tvalid_0's auc: 1\n",
      "[49]\tvalid_0's binary_logloss: 0.00148253\tvalid_0's auc: 1\n",
      "[50]\tvalid_0's binary_logloss: 0.00134464\tvalid_0's auc: 1\n",
      "[51]\tvalid_0's binary_logloss: 0.00121992\tvalid_0's auc: 1\n",
      "[52]\tvalid_0's binary_logloss: 0.0011071\tvalid_0's auc: 1\n",
      "[53]\tvalid_0's binary_logloss: 0.00100505\tvalid_0's auc: 1\n",
      "[54]\tvalid_0's binary_logloss: 0.000912727\tvalid_0's auc: 1\n",
      "[55]\tvalid_0's binary_logloss: 0.000829211\tvalid_0's auc: 1\n",
      "[56]\tvalid_0's binary_logloss: 0.000753658\tvalid_0's auc: 1\n",
      "[57]\tvalid_0's binary_logloss: 0.000685308\tvalid_0's auc: 1\n",
      "[58]\tvalid_0's binary_logloss: 0.000623473\tvalid_0's auc: 1\n",
      "[59]\tvalid_0's binary_logloss: 0.000567532\tvalid_0's auc: 1\n",
      "[60]\tvalid_0's binary_logloss: 0.000516923\tvalid_0's auc: 1\n",
      "[61]\tvalid_0's binary_logloss: 0.000471137\tvalid_0's auc: 1\n",
      "[62]\tvalid_0's binary_logloss: 0.000429713\tvalid_0's auc: 1\n",
      "[63]\tvalid_0's binary_logloss: 0.000392237\tvalid_0's auc: 1\n",
      "[64]\tvalid_0's binary_logloss: 0.000358333\tvalid_0's auc: 1\n",
      "[65]\tvalid_0's binary_logloss: 0.000327659\tvalid_0's auc: 1\n",
      "[66]\tvalid_0's binary_logloss: 0.000299908\tvalid_0's auc: 1\n",
      "[67]\tvalid_0's binary_logloss: 0.000274803\tvalid_0's auc: 1\n",
      "[68]\tvalid_0's binary_logloss: 0.00025209\tvalid_0's auc: 1\n",
      "[69]\tvalid_0's binary_logloss: 0.000231542\tvalid_0's auc: 1\n",
      "[70]\tvalid_0's binary_logloss: 0.000212954\tvalid_0's auc: 1\n",
      "[71]\tvalid_0's binary_logloss: 0.000196138\tvalid_0's auc: 1\n",
      "[72]\tvalid_0's binary_logloss: 0.000180926\tvalid_0's auc: 1\n",
      "[73]\tvalid_0's binary_logloss: 0.000167165\tvalid_0's auc: 1\n",
      "[74]\tvalid_0's binary_logloss: 0.000154718\tvalid_0's auc: 1\n",
      "[75]\tvalid_0's binary_logloss: 0.000143459\tvalid_0's auc: 1\n",
      "[76]\tvalid_0's binary_logloss: 0.000133276\tvalid_0's auc: 1\n",
      "[77]\tvalid_0's binary_logloss: 0.000124065\tvalid_0's auc: 1\n",
      "[78]\tvalid_0's binary_logloss: 0.000115735\tvalid_0's auc: 1\n",
      "[79]\tvalid_0's binary_logloss: 0.000108202\tvalid_0's auc: 1\n",
      "[80]\tvalid_0's binary_logloss: 0.00010139\tvalid_0's auc: 1\n",
      "[81]\tvalid_0's binary_logloss: 9.5231e-05\tvalid_0's auc: 1\n",
      "[82]\tvalid_0's binary_logloss: 8.96619e-05\tvalid_0's auc: 1\n",
      "[83]\tvalid_0's binary_logloss: 8.4627e-05\tvalid_0's auc: 1\n",
      "[84]\tvalid_0's binary_logloss: 8.00755e-05\tvalid_0's auc: 1\n",
      "[85]\tvalid_0's binary_logloss: 7.59612e-05\tvalid_0's auc: 1\n",
      "[86]\tvalid_0's binary_logloss: 7.22426e-05\tvalid_0's auc: 1\n",
      "[87]\tvalid_0's binary_logloss: 6.8882e-05\tvalid_0's auc: 1\n",
      "[88]\tvalid_0's binary_logloss: 6.5845e-05\tvalid_0's auc: 1\n",
      "[89]\tvalid_0's binary_logloss: 6.3101e-05\tvalid_0's auc: 1\n",
      "[90]\tvalid_0's binary_logloss: 6.06217e-05\tvalid_0's auc: 1\n",
      "[91]\tvalid_0's binary_logloss: 5.83819e-05\tvalid_0's auc: 1\n",
      "[92]\tvalid_0's binary_logloss: 5.63588e-05\tvalid_0's auc: 1\n",
      "[93]\tvalid_0's binary_logloss: 5.45315e-05\tvalid_0's auc: 1\n",
      "[94]\tvalid_0's binary_logloss: 5.28813e-05\tvalid_0's auc: 1\n",
      "[95]\tvalid_0's binary_logloss: 5.13911e-05\tvalid_0's auc: 1\n",
      "[96]\tvalid_0's binary_logloss: 5.00458e-05\tvalid_0's auc: 1\n",
      "[97]\tvalid_0's binary_logloss: 4.88312e-05\tvalid_0's auc: 1\n",
      "[98]\tvalid_0's binary_logloss: 4.77348e-05\tvalid_0's auc: 1\n",
      "[99]\tvalid_0's binary_logloss: 4.67452e-05\tvalid_0's auc: 1\n",
      "[100]\tvalid_0's binary_logloss: 4.58521e-05\tvalid_0's auc: 1\n",
      "[101]\tvalid_0's binary_logloss: 4.50462e-05\tvalid_0's auc: 1\n",
      "[102]\tvalid_0's binary_logloss: 4.43191e-05\tvalid_0's auc: 1\n",
      "[103]\tvalid_0's binary_logloss: 4.36631e-05\tvalid_0's auc: 1\n",
      "[104]\tvalid_0's binary_logloss: 4.30714e-05\tvalid_0's auc: 1\n",
      "[105]\tvalid_0's binary_logloss: 4.25377e-05\tvalid_0's auc: 1\n",
      "[106]\tvalid_0's binary_logloss: 4.25377e-05\tvalid_0's auc: 1\n",
      "[107]\tvalid_0's binary_logloss: 4.25377e-05\tvalid_0's auc: 1\n",
      "[108]\tvalid_0's binary_logloss: 4.25377e-05\tvalid_0's auc: 1\n",
      "[109]\tvalid_0's binary_logloss: 4.25377e-05\tvalid_0's auc: 1\n",
      "[110]\tvalid_0's binary_logloss: 4.25377e-05\tvalid_0's auc: 1\n",
      "[111]\tvalid_0's binary_logloss: 4.25377e-05\tvalid_0's auc: 1\n",
      "[112]\tvalid_0's binary_logloss: 4.25377e-05\tvalid_0's auc: 1\n",
      "[113]\tvalid_0's binary_logloss: 4.25377e-05\tvalid_0's auc: 1\n",
      "[114]\tvalid_0's binary_logloss: 4.25377e-05\tvalid_0's auc: 1\n",
      "[115]\tvalid_0's binary_logloss: 4.25377e-05\tvalid_0's auc: 1\n",
      "[116]\tvalid_0's binary_logloss: 4.25377e-05\tvalid_0's auc: 1\n",
      "[117]\tvalid_0's binary_logloss: 4.25377e-05\tvalid_0's auc: 1\n",
      "[118]\tvalid_0's binary_logloss: 4.25377e-05\tvalid_0's auc: 1\n",
      "[119]\tvalid_0's binary_logloss: 4.25377e-05\tvalid_0's auc: 1\n",
      "[120]\tvalid_0's binary_logloss: 4.25377e-05\tvalid_0's auc: 1\n",
      "[121]\tvalid_0's binary_logloss: 4.25377e-05\tvalid_0's auc: 1\n",
      "[122]\tvalid_0's binary_logloss: 4.25377e-05\tvalid_0's auc: 1\n",
      "[123]\tvalid_0's binary_logloss: 4.25377e-05\tvalid_0's auc: 1\n",
      "[124]\tvalid_0's binary_logloss: 4.25377e-05\tvalid_0's auc: 1\n",
      "[125]\tvalid_0's binary_logloss: 4.25377e-05\tvalid_0's auc: 1\n",
      "[126]\tvalid_0's binary_logloss: 4.25377e-05\tvalid_0's auc: 1\n",
      "[127]\tvalid_0's binary_logloss: 4.25377e-05\tvalid_0's auc: 1\n",
      "[128]\tvalid_0's binary_logloss: 4.25377e-05\tvalid_0's auc: 1\n",
      "[129]\tvalid_0's binary_logloss: 4.25377e-05\tvalid_0's auc: 1\n",
      "[130]\tvalid_0's binary_logloss: 4.25377e-05\tvalid_0's auc: 1\n",
      "[131]\tvalid_0's binary_logloss: 4.25377e-05\tvalid_0's auc: 1\n",
      "[132]\tvalid_0's binary_logloss: 4.25377e-05\tvalid_0's auc: 1\n",
      "[133]\tvalid_0's binary_logloss: 4.25377e-05\tvalid_0's auc: 1\n",
      "[134]\tvalid_0's binary_logloss: 4.25377e-05\tvalid_0's auc: 1\n",
      "[135]\tvalid_0's binary_logloss: 4.25377e-05\tvalid_0's auc: 1\n",
      "[136]\tvalid_0's binary_logloss: 4.25377e-05\tvalid_0's auc: 1\n",
      "[137]\tvalid_0's binary_logloss: 4.25377e-05\tvalid_0's auc: 1\n",
      "[138]\tvalid_0's binary_logloss: 4.25377e-05\tvalid_0's auc: 1\n",
      "[139]\tvalid_0's binary_logloss: 4.25377e-05\tvalid_0's auc: 1\n",
      "[140]\tvalid_0's binary_logloss: 4.25377e-05\tvalid_0's auc: 1\n",
      "[141]\tvalid_0's binary_logloss: 4.25377e-05\tvalid_0's auc: 1\n",
      "[142]\tvalid_0's binary_logloss: 4.25377e-05\tvalid_0's auc: 1\n",
      "[143]\tvalid_0's binary_logloss: 4.25377e-05\tvalid_0's auc: 1\n",
      "[144]\tvalid_0's binary_logloss: 4.25377e-05\tvalid_0's auc: 1\n",
      "[145]\tvalid_0's binary_logloss: 4.25377e-05\tvalid_0's auc: 1\n",
      "[146]\tvalid_0's binary_logloss: 4.25377e-05\tvalid_0's auc: 1\n",
      "[147]\tvalid_0's binary_logloss: 4.25377e-05\tvalid_0's auc: 1\n",
      "[148]\tvalid_0's binary_logloss: 4.25377e-05\tvalid_0's auc: 1\n",
      "[149]\tvalid_0's binary_logloss: 4.25377e-05\tvalid_0's auc: 1\n",
      "[150]\tvalid_0's binary_logloss: 4.25377e-05\tvalid_0's auc: 1\n",
      "[151]\tvalid_0's binary_logloss: 4.25377e-05\tvalid_0's auc: 1\n",
      "[152]\tvalid_0's binary_logloss: 4.25377e-05\tvalid_0's auc: 1\n",
      "[153]\tvalid_0's binary_logloss: 4.25377e-05\tvalid_0's auc: 1\n",
      "[154]\tvalid_0's binary_logloss: 4.25377e-05\tvalid_0's auc: 1\n",
      "[155]\tvalid_0's binary_logloss: 4.25377e-05\tvalid_0's auc: 1\n",
      "[156]\tvalid_0's binary_logloss: 4.25377e-05\tvalid_0's auc: 1\n",
      "[157]\tvalid_0's binary_logloss: 4.25377e-05\tvalid_0's auc: 1\n",
      "[158]\tvalid_0's binary_logloss: 4.25377e-05\tvalid_0's auc: 1\n",
      "[159]\tvalid_0's binary_logloss: 4.25377e-05\tvalid_0's auc: 1\n",
      "[160]\tvalid_0's binary_logloss: 4.25377e-05\tvalid_0's auc: 1\n",
      "[161]\tvalid_0's binary_logloss: 4.25377e-05\tvalid_0's auc: 1\n",
      "[162]\tvalid_0's binary_logloss: 4.25377e-05\tvalid_0's auc: 1\n",
      "[163]\tvalid_0's binary_logloss: 4.25377e-05\tvalid_0's auc: 1\n",
      "[164]\tvalid_0's binary_logloss: 4.25377e-05\tvalid_0's auc: 1\n",
      "[165]\tvalid_0's binary_logloss: 4.25377e-05\tvalid_0's auc: 1\n",
      "[166]\tvalid_0's binary_logloss: 4.25377e-05\tvalid_0's auc: 1\n",
      "[167]\tvalid_0's binary_logloss: 4.25377e-05\tvalid_0's auc: 1\n",
      "[168]\tvalid_0's binary_logloss: 4.25377e-05\tvalid_0's auc: 1\n",
      "[169]\tvalid_0's binary_logloss: 4.25377e-05\tvalid_0's auc: 1\n"
     ]
    },
    {
     "name": "stdout",
     "output_type": "stream",
     "text": [
      "[170]\tvalid_0's binary_logloss: 4.25377e-05\tvalid_0's auc: 1\n",
      "[171]\tvalid_0's binary_logloss: 4.25377e-05\tvalid_0's auc: 1\n",
      "[172]\tvalid_0's binary_logloss: 4.25377e-05\tvalid_0's auc: 1\n",
      "[173]\tvalid_0's binary_logloss: 4.25377e-05\tvalid_0's auc: 1\n",
      "[174]\tvalid_0's binary_logloss: 4.25377e-05\tvalid_0's auc: 1\n",
      "[175]\tvalid_0's binary_logloss: 4.25377e-05\tvalid_0's auc: 1\n",
      "[176]\tvalid_0's binary_logloss: 4.25377e-05\tvalid_0's auc: 1\n",
      "[177]\tvalid_0's binary_logloss: 4.25377e-05\tvalid_0's auc: 1\n",
      "[178]\tvalid_0's binary_logloss: 4.25377e-05\tvalid_0's auc: 1\n",
      "[179]\tvalid_0's binary_logloss: 4.25377e-05\tvalid_0's auc: 1\n",
      "[180]\tvalid_0's binary_logloss: 4.25377e-05\tvalid_0's auc: 1\n",
      "[181]\tvalid_0's binary_logloss: 4.25377e-05\tvalid_0's auc: 1\n",
      "[182]\tvalid_0's binary_logloss: 4.25377e-05\tvalid_0's auc: 1\n",
      "[183]\tvalid_0's binary_logloss: 4.25377e-05\tvalid_0's auc: 1\n",
      "[184]\tvalid_0's binary_logloss: 4.25377e-05\tvalid_0's auc: 1\n",
      "[185]\tvalid_0's binary_logloss: 4.25377e-05\tvalid_0's auc: 1\n",
      "[186]\tvalid_0's binary_logloss: 4.25377e-05\tvalid_0's auc: 1\n",
      "[187]\tvalid_0's binary_logloss: 4.25377e-05\tvalid_0's auc: 1\n",
      "[188]\tvalid_0's binary_logloss: 4.25377e-05\tvalid_0's auc: 1\n",
      "[189]\tvalid_0's binary_logloss: 4.25377e-05\tvalid_0's auc: 1\n",
      "[190]\tvalid_0's binary_logloss: 4.25377e-05\tvalid_0's auc: 1\n",
      "[191]\tvalid_0's binary_logloss: 4.25377e-05\tvalid_0's auc: 1\n",
      "[192]\tvalid_0's binary_logloss: 4.25377e-05\tvalid_0's auc: 1\n",
      "[193]\tvalid_0's binary_logloss: 4.25377e-05\tvalid_0's auc: 1\n",
      "[194]\tvalid_0's binary_logloss: 4.25377e-05\tvalid_0's auc: 1\n",
      "[195]\tvalid_0's binary_logloss: 4.25377e-05\tvalid_0's auc: 1\n",
      "[196]\tvalid_0's binary_logloss: 4.25377e-05\tvalid_0's auc: 1\n",
      "[197]\tvalid_0's binary_logloss: 4.25377e-05\tvalid_0's auc: 1\n",
      "[198]\tvalid_0's binary_logloss: 4.25377e-05\tvalid_0's auc: 1\n",
      "[199]\tvalid_0's binary_logloss: 4.25377e-05\tvalid_0's auc: 1\n",
      "[200]\tvalid_0's binary_logloss: 4.25377e-05\tvalid_0's auc: 1\n",
      "[201]\tvalid_0's binary_logloss: 4.25377e-05\tvalid_0's auc: 1\n",
      "[202]\tvalid_0's binary_logloss: 4.25377e-05\tvalid_0's auc: 1\n",
      "[203]\tvalid_0's binary_logloss: 4.25377e-05\tvalid_0's auc: 1\n",
      "[204]\tvalid_0's binary_logloss: 4.25377e-05\tvalid_0's auc: 1\n",
      "[205]\tvalid_0's binary_logloss: 4.25377e-05\tvalid_0's auc: 1\n",
      "[206]\tvalid_0's binary_logloss: 4.25377e-05\tvalid_0's auc: 1\n",
      "[207]\tvalid_0's binary_logloss: 4.25377e-05\tvalid_0's auc: 1\n",
      "[208]\tvalid_0's binary_logloss: 4.25377e-05\tvalid_0's auc: 1\n",
      "[209]\tvalid_0's binary_logloss: 4.25377e-05\tvalid_0's auc: 1\n",
      "[210]\tvalid_0's binary_logloss: 4.25377e-05\tvalid_0's auc: 1\n",
      "[211]\tvalid_0's binary_logloss: 4.25377e-05\tvalid_0's auc: 1\n",
      "[212]\tvalid_0's binary_logloss: 4.25377e-05\tvalid_0's auc: 1\n",
      "[213]\tvalid_0's binary_logloss: 4.25377e-05\tvalid_0's auc: 1\n",
      "[214]\tvalid_0's binary_logloss: 4.25377e-05\tvalid_0's auc: 1\n",
      "[215]\tvalid_0's binary_logloss: 4.25377e-05\tvalid_0's auc: 1\n",
      "[216]\tvalid_0's binary_logloss: 4.25377e-05\tvalid_0's auc: 1\n",
      "[217]\tvalid_0's binary_logloss: 4.25377e-05\tvalid_0's auc: 1\n",
      "[218]\tvalid_0's binary_logloss: 4.25377e-05\tvalid_0's auc: 1\n",
      "[219]\tvalid_0's binary_logloss: 4.25377e-05\tvalid_0's auc: 1\n",
      "[220]\tvalid_0's binary_logloss: 4.25377e-05\tvalid_0's auc: 1\n",
      "[221]\tvalid_0's binary_logloss: 4.25377e-05\tvalid_0's auc: 1\n",
      "[222]\tvalid_0's binary_logloss: 4.25377e-05\tvalid_0's auc: 1\n",
      "[223]\tvalid_0's binary_logloss: 4.25377e-05\tvalid_0's auc: 1\n",
      "[224]\tvalid_0's binary_logloss: 4.25377e-05\tvalid_0's auc: 1\n",
      "[225]\tvalid_0's binary_logloss: 4.25377e-05\tvalid_0's auc: 1\n",
      "[226]\tvalid_0's binary_logloss: 4.25377e-05\tvalid_0's auc: 1\n",
      "[227]\tvalid_0's binary_logloss: 4.25377e-05\tvalid_0's auc: 1\n",
      "[228]\tvalid_0's binary_logloss: 4.25377e-05\tvalid_0's auc: 1\n",
      "[229]\tvalid_0's binary_logloss: 4.25377e-05\tvalid_0's auc: 1\n",
      "[230]\tvalid_0's binary_logloss: 4.25377e-05\tvalid_0's auc: 1\n",
      "[231]\tvalid_0's binary_logloss: 4.25377e-05\tvalid_0's auc: 1\n",
      "[232]\tvalid_0's binary_logloss: 4.25377e-05\tvalid_0's auc: 1\n",
      "[233]\tvalid_0's binary_logloss: 4.25377e-05\tvalid_0's auc: 1\n",
      "[234]\tvalid_0's binary_logloss: 4.25377e-05\tvalid_0's auc: 1\n",
      "[235]\tvalid_0's binary_logloss: 4.25377e-05\tvalid_0's auc: 1\n",
      "[236]\tvalid_0's binary_logloss: 4.25377e-05\tvalid_0's auc: 1\n",
      "[237]\tvalid_0's binary_logloss: 4.25377e-05\tvalid_0's auc: 1\n",
      "[238]\tvalid_0's binary_logloss: 4.25377e-05\tvalid_0's auc: 1\n",
      "[239]\tvalid_0's binary_logloss: 4.25377e-05\tvalid_0's auc: 1\n",
      "[240]\tvalid_0's binary_logloss: 4.25377e-05\tvalid_0's auc: 1\n",
      "[241]\tvalid_0's binary_logloss: 4.25377e-05\tvalid_0's auc: 1\n",
      "[242]\tvalid_0's binary_logloss: 4.25377e-05\tvalid_0's auc: 1\n",
      "[243]\tvalid_0's binary_logloss: 4.25377e-05\tvalid_0's auc: 1\n",
      "[244]\tvalid_0's binary_logloss: 4.25377e-05\tvalid_0's auc: 1\n",
      "[245]\tvalid_0's binary_logloss: 4.25377e-05\tvalid_0's auc: 1\n",
      "[246]\tvalid_0's binary_logloss: 4.25377e-05\tvalid_0's auc: 1\n",
      "[247]\tvalid_0's binary_logloss: 4.25377e-05\tvalid_0's auc: 1\n",
      "[248]\tvalid_0's binary_logloss: 4.25377e-05\tvalid_0's auc: 1\n",
      "[249]\tvalid_0's binary_logloss: 4.25377e-05\tvalid_0's auc: 1\n",
      "[250]\tvalid_0's binary_logloss: 4.25377e-05\tvalid_0's auc: 1\n",
      "[251]\tvalid_0's binary_logloss: 4.25377e-05\tvalid_0's auc: 1\n",
      "[252]\tvalid_0's binary_logloss: 4.25377e-05\tvalid_0's auc: 1\n",
      "[253]\tvalid_0's binary_logloss: 4.25377e-05\tvalid_0's auc: 1\n",
      "[254]\tvalid_0's binary_logloss: 4.25377e-05\tvalid_0's auc: 1\n",
      "[255]\tvalid_0's binary_logloss: 4.25377e-05\tvalid_0's auc: 1\n",
      "[256]\tvalid_0's binary_logloss: 4.25377e-05\tvalid_0's auc: 1\n",
      "[257]\tvalid_0's binary_logloss: 4.25377e-05\tvalid_0's auc: 1\n",
      "[258]\tvalid_0's binary_logloss: 4.25377e-05\tvalid_0's auc: 1\n",
      "[259]\tvalid_0's binary_logloss: 4.25377e-05\tvalid_0's auc: 1\n",
      "[260]\tvalid_0's binary_logloss: 4.25377e-05\tvalid_0's auc: 1\n",
      "[261]\tvalid_0's binary_logloss: 4.25377e-05\tvalid_0's auc: 1\n",
      "[262]\tvalid_0's binary_logloss: 4.25377e-05\tvalid_0's auc: 1\n",
      "[263]\tvalid_0's binary_logloss: 4.25377e-05\tvalid_0's auc: 1\n",
      "[264]\tvalid_0's binary_logloss: 4.25377e-05\tvalid_0's auc: 1\n",
      "[265]\tvalid_0's binary_logloss: 4.25377e-05\tvalid_0's auc: 1\n",
      "[266]\tvalid_0's binary_logloss: 4.25377e-05\tvalid_0's auc: 1\n",
      "[267]\tvalid_0's binary_logloss: 4.25377e-05\tvalid_0's auc: 1\n",
      "[268]\tvalid_0's binary_logloss: 4.25377e-05\tvalid_0's auc: 1\n",
      "[269]\tvalid_0's binary_logloss: 4.25377e-05\tvalid_0's auc: 1\n",
      "[270]\tvalid_0's binary_logloss: 4.25377e-05\tvalid_0's auc: 1\n",
      "[271]\tvalid_0's binary_logloss: 4.25377e-05\tvalid_0's auc: 1\n",
      "[272]\tvalid_0's binary_logloss: 4.25377e-05\tvalid_0's auc: 1\n",
      "[273]\tvalid_0's binary_logloss: 4.25377e-05\tvalid_0's auc: 1\n",
      "[274]\tvalid_0's binary_logloss: 4.25377e-05\tvalid_0's auc: 1\n",
      "[275]\tvalid_0's binary_logloss: 4.25377e-05\tvalid_0's auc: 1\n",
      "[276]\tvalid_0's binary_logloss: 4.25377e-05\tvalid_0's auc: 1\n",
      "[277]\tvalid_0's binary_logloss: 4.25377e-05\tvalid_0's auc: 1\n",
      "[278]\tvalid_0's binary_logloss: 4.25377e-05\tvalid_0's auc: 1\n",
      "[279]\tvalid_0's binary_logloss: 4.25377e-05\tvalid_0's auc: 1\n",
      "[280]\tvalid_0's binary_logloss: 4.25377e-05\tvalid_0's auc: 1\n",
      "[281]\tvalid_0's binary_logloss: 4.25377e-05\tvalid_0's auc: 1\n",
      "[282]\tvalid_0's binary_logloss: 4.25377e-05\tvalid_0's auc: 1\n",
      "[283]\tvalid_0's binary_logloss: 4.25377e-05\tvalid_0's auc: 1\n",
      "[284]\tvalid_0's binary_logloss: 4.25377e-05\tvalid_0's auc: 1\n",
      "[285]\tvalid_0's binary_logloss: 4.25377e-05\tvalid_0's auc: 1\n",
      "[286]\tvalid_0's binary_logloss: 4.25377e-05\tvalid_0's auc: 1\n",
      "[287]\tvalid_0's binary_logloss: 4.25377e-05\tvalid_0's auc: 1\n",
      "[288]\tvalid_0's binary_logloss: 4.25377e-05\tvalid_0's auc: 1\n",
      "[289]\tvalid_0's binary_logloss: 4.25377e-05\tvalid_0's auc: 1\n",
      "[290]\tvalid_0's binary_logloss: 4.25377e-05\tvalid_0's auc: 1\n",
      "[291]\tvalid_0's binary_logloss: 4.25377e-05\tvalid_0's auc: 1\n",
      "[292]\tvalid_0's binary_logloss: 4.25377e-05\tvalid_0's auc: 1\n",
      "[293]\tvalid_0's binary_logloss: 4.25377e-05\tvalid_0's auc: 1\n",
      "[294]\tvalid_0's binary_logloss: 4.25377e-05\tvalid_0's auc: 1\n",
      "[295]\tvalid_0's binary_logloss: 4.25377e-05\tvalid_0's auc: 1\n",
      "[296]\tvalid_0's binary_logloss: 4.25377e-05\tvalid_0's auc: 1\n",
      "[297]\tvalid_0's binary_logloss: 4.25377e-05\tvalid_0's auc: 1\n",
      "[298]\tvalid_0's binary_logloss: 4.25377e-05\tvalid_0's auc: 1\n",
      "[299]\tvalid_0's binary_logloss: 4.25377e-05\tvalid_0's auc: 1\n",
      "[300]\tvalid_0's binary_logloss: 4.25377e-05\tvalid_0's auc: 1\n",
      "[301]\tvalid_0's binary_logloss: 4.25377e-05\tvalid_0's auc: 1\n",
      "[302]\tvalid_0's binary_logloss: 4.25377e-05\tvalid_0's auc: 1\n",
      "[303]\tvalid_0's binary_logloss: 4.25377e-05\tvalid_0's auc: 1\n",
      "[304]\tvalid_0's binary_logloss: 4.25377e-05\tvalid_0's auc: 1\n",
      "[305]\tvalid_0's binary_logloss: 4.25377e-05\tvalid_0's auc: 1\n",
      "[306]\tvalid_0's binary_logloss: 4.25377e-05\tvalid_0's auc: 1\n",
      "[307]\tvalid_0's binary_logloss: 4.25377e-05\tvalid_0's auc: 1\n"
     ]
    },
    {
     "name": "stdout",
     "output_type": "stream",
     "text": [
      "[308]\tvalid_0's binary_logloss: 4.25377e-05\tvalid_0's auc: 1\n",
      "[309]\tvalid_0's binary_logloss: 4.25377e-05\tvalid_0's auc: 1\n",
      "[310]\tvalid_0's binary_logloss: 4.25377e-05\tvalid_0's auc: 1\n",
      "[311]\tvalid_0's binary_logloss: 4.25377e-05\tvalid_0's auc: 1\n",
      "[312]\tvalid_0's binary_logloss: 4.25377e-05\tvalid_0's auc: 1\n",
      "[313]\tvalid_0's binary_logloss: 4.25377e-05\tvalid_0's auc: 1\n",
      "[314]\tvalid_0's binary_logloss: 4.25377e-05\tvalid_0's auc: 1\n",
      "[315]\tvalid_0's binary_logloss: 4.25377e-05\tvalid_0's auc: 1\n",
      "[316]\tvalid_0's binary_logloss: 4.25377e-05\tvalid_0's auc: 1\n",
      "[317]\tvalid_0's binary_logloss: 4.25377e-05\tvalid_0's auc: 1\n",
      "[318]\tvalid_0's binary_logloss: 4.25377e-05\tvalid_0's auc: 1\n",
      "[319]\tvalid_0's binary_logloss: 4.25377e-05\tvalid_0's auc: 1\n",
      "[320]\tvalid_0's binary_logloss: 4.25377e-05\tvalid_0's auc: 1\n",
      "[321]\tvalid_0's binary_logloss: 4.25377e-05\tvalid_0's auc: 1\n",
      "[322]\tvalid_0's binary_logloss: 4.25377e-05\tvalid_0's auc: 1\n",
      "[323]\tvalid_0's binary_logloss: 4.25377e-05\tvalid_0's auc: 1\n",
      "[324]\tvalid_0's binary_logloss: 4.25377e-05\tvalid_0's auc: 1\n",
      "[325]\tvalid_0's binary_logloss: 4.25377e-05\tvalid_0's auc: 1\n",
      "[326]\tvalid_0's binary_logloss: 4.25377e-05\tvalid_0's auc: 1\n",
      "[327]\tvalid_0's binary_logloss: 4.25377e-05\tvalid_0's auc: 1\n",
      "[328]\tvalid_0's binary_logloss: 4.25377e-05\tvalid_0's auc: 1\n",
      "[329]\tvalid_0's binary_logloss: 4.25377e-05\tvalid_0's auc: 1\n",
      "[330]\tvalid_0's binary_logloss: 4.25377e-05\tvalid_0's auc: 1\n",
      "[331]\tvalid_0's binary_logloss: 4.25377e-05\tvalid_0's auc: 1\n",
      "[332]\tvalid_0's binary_logloss: 4.25377e-05\tvalid_0's auc: 1\n",
      "[333]\tvalid_0's binary_logloss: 4.25377e-05\tvalid_0's auc: 1\n",
      "[334]\tvalid_0's binary_logloss: 4.25377e-05\tvalid_0's auc: 1\n",
      "[335]\tvalid_0's binary_logloss: 4.25377e-05\tvalid_0's auc: 1\n",
      "[336]\tvalid_0's binary_logloss: 4.25377e-05\tvalid_0's auc: 1\n",
      "[337]\tvalid_0's binary_logloss: 4.25377e-05\tvalid_0's auc: 1\n",
      "[338]\tvalid_0's binary_logloss: 4.25377e-05\tvalid_0's auc: 1\n",
      "[339]\tvalid_0's binary_logloss: 4.25377e-05\tvalid_0's auc: 1\n",
      "[340]\tvalid_0's binary_logloss: 4.25377e-05\tvalid_0's auc: 1\n",
      "[341]\tvalid_0's binary_logloss: 4.25377e-05\tvalid_0's auc: 1\n",
      "[342]\tvalid_0's binary_logloss: 4.25377e-05\tvalid_0's auc: 1\n",
      "[343]\tvalid_0's binary_logloss: 4.25377e-05\tvalid_0's auc: 1\n",
      "[344]\tvalid_0's binary_logloss: 4.25377e-05\tvalid_0's auc: 1\n",
      "[345]\tvalid_0's binary_logloss: 4.25377e-05\tvalid_0's auc: 1\n",
      "[346]\tvalid_0's binary_logloss: 4.25377e-05\tvalid_0's auc: 1\n",
      "[347]\tvalid_0's binary_logloss: 4.25377e-05\tvalid_0's auc: 1\n",
      "[348]\tvalid_0's binary_logloss: 4.25377e-05\tvalid_0's auc: 1\n",
      "[349]\tvalid_0's binary_logloss: 4.25377e-05\tvalid_0's auc: 1\n",
      "[350]\tvalid_0's binary_logloss: 4.25377e-05\tvalid_0's auc: 1\n",
      "[351]\tvalid_0's binary_logloss: 4.25377e-05\tvalid_0's auc: 1\n",
      "[352]\tvalid_0's binary_logloss: 4.25377e-05\tvalid_0's auc: 1\n",
      "[353]\tvalid_0's binary_logloss: 4.25377e-05\tvalid_0's auc: 1\n",
      "[354]\tvalid_0's binary_logloss: 4.25377e-05\tvalid_0's auc: 1\n",
      "[355]\tvalid_0's binary_logloss: 4.25377e-05\tvalid_0's auc: 1\n",
      "[356]\tvalid_0's binary_logloss: 4.25377e-05\tvalid_0's auc: 1\n",
      "[357]\tvalid_0's binary_logloss: 4.25377e-05\tvalid_0's auc: 1\n",
      "[358]\tvalid_0's binary_logloss: 4.25377e-05\tvalid_0's auc: 1\n",
      "[359]\tvalid_0's binary_logloss: 4.25377e-05\tvalid_0's auc: 1\n",
      "[360]\tvalid_0's binary_logloss: 4.25377e-05\tvalid_0's auc: 1\n",
      "[361]\tvalid_0's binary_logloss: 4.25377e-05\tvalid_0's auc: 1\n",
      "[362]\tvalid_0's binary_logloss: 4.25377e-05\tvalid_0's auc: 1\n",
      "[363]\tvalid_0's binary_logloss: 4.25377e-05\tvalid_0's auc: 1\n",
      "[364]\tvalid_0's binary_logloss: 4.25377e-05\tvalid_0's auc: 1\n",
      "[365]\tvalid_0's binary_logloss: 4.25377e-05\tvalid_0's auc: 1\n",
      "[366]\tvalid_0's binary_logloss: 4.25377e-05\tvalid_0's auc: 1\n",
      "[367]\tvalid_0's binary_logloss: 4.25377e-05\tvalid_0's auc: 1\n",
      "[368]\tvalid_0's binary_logloss: 4.25377e-05\tvalid_0's auc: 1\n",
      "[369]\tvalid_0's binary_logloss: 4.25377e-05\tvalid_0's auc: 1\n",
      "[370]\tvalid_0's binary_logloss: 4.25377e-05\tvalid_0's auc: 1\n",
      "[371]\tvalid_0's binary_logloss: 4.25377e-05\tvalid_0's auc: 1\n",
      "[372]\tvalid_0's binary_logloss: 4.25377e-05\tvalid_0's auc: 1\n",
      "[373]\tvalid_0's binary_logloss: 4.25377e-05\tvalid_0's auc: 1\n",
      "[374]\tvalid_0's binary_logloss: 4.25377e-05\tvalid_0's auc: 1\n",
      "[375]\tvalid_0's binary_logloss: 4.25377e-05\tvalid_0's auc: 1\n",
      "[376]\tvalid_0's binary_logloss: 4.25377e-05\tvalid_0's auc: 1\n",
      "[377]\tvalid_0's binary_logloss: 4.25377e-05\tvalid_0's auc: 1\n",
      "[378]\tvalid_0's binary_logloss: 4.25377e-05\tvalid_0's auc: 1\n",
      "[379]\tvalid_0's binary_logloss: 4.25377e-05\tvalid_0's auc: 1\n",
      "[380]\tvalid_0's binary_logloss: 4.25377e-05\tvalid_0's auc: 1\n",
      "[381]\tvalid_0's binary_logloss: 4.25377e-05\tvalid_0's auc: 1\n",
      "[382]\tvalid_0's binary_logloss: 4.25377e-05\tvalid_0's auc: 1\n",
      "[383]\tvalid_0's binary_logloss: 4.25377e-05\tvalid_0's auc: 1\n",
      "[384]\tvalid_0's binary_logloss: 4.25377e-05\tvalid_0's auc: 1\n",
      "[385]\tvalid_0's binary_logloss: 4.25377e-05\tvalid_0's auc: 1\n",
      "[386]\tvalid_0's binary_logloss: 4.25377e-05\tvalid_0's auc: 1\n",
      "[387]\tvalid_0's binary_logloss: 4.25377e-05\tvalid_0's auc: 1\n",
      "[388]\tvalid_0's binary_logloss: 4.25377e-05\tvalid_0's auc: 1\n",
      "[389]\tvalid_0's binary_logloss: 4.25377e-05\tvalid_0's auc: 1\n",
      "[390]\tvalid_0's binary_logloss: 4.25377e-05\tvalid_0's auc: 1\n",
      "[391]\tvalid_0's binary_logloss: 4.25377e-05\tvalid_0's auc: 1\n",
      "[392]\tvalid_0's binary_logloss: 4.25377e-05\tvalid_0's auc: 1\n",
      "[393]\tvalid_0's binary_logloss: 4.25377e-05\tvalid_0's auc: 1\n",
      "[394]\tvalid_0's binary_logloss: 4.25377e-05\tvalid_0's auc: 1\n",
      "[395]\tvalid_0's binary_logloss: 4.25377e-05\tvalid_0's auc: 1\n",
      "[396]\tvalid_0's binary_logloss: 4.25377e-05\tvalid_0's auc: 1\n",
      "[397]\tvalid_0's binary_logloss: 4.25377e-05\tvalid_0's auc: 1\n",
      "[398]\tvalid_0's binary_logloss: 4.25377e-05\tvalid_0's auc: 1\n",
      "[399]\tvalid_0's binary_logloss: 4.25377e-05\tvalid_0's auc: 1\n",
      "[400]\tvalid_0's binary_logloss: 4.25377e-05\tvalid_0's auc: 1\n",
      "[401]\tvalid_0's binary_logloss: 4.25377e-05\tvalid_0's auc: 1\n",
      "[402]\tvalid_0's binary_logloss: 4.25377e-05\tvalid_0's auc: 1\n",
      "[403]\tvalid_0's binary_logloss: 4.25377e-05\tvalid_0's auc: 1\n",
      "[404]\tvalid_0's binary_logloss: 4.25377e-05\tvalid_0's auc: 1\n",
      "[405]\tvalid_0's binary_logloss: 4.25377e-05\tvalid_0's auc: 1\n",
      "[406]\tvalid_0's binary_logloss: 4.25377e-05\tvalid_0's auc: 1\n",
      "[407]\tvalid_0's binary_logloss: 4.25377e-05\tvalid_0's auc: 1\n",
      "[408]\tvalid_0's binary_logloss: 4.25377e-05\tvalid_0's auc: 1\n",
      "[409]\tvalid_0's binary_logloss: 4.25377e-05\tvalid_0's auc: 1\n",
      "[410]\tvalid_0's binary_logloss: 4.25377e-05\tvalid_0's auc: 1\n",
      "[411]\tvalid_0's binary_logloss: 4.25377e-05\tvalid_0's auc: 1\n",
      "[412]\tvalid_0's binary_logloss: 4.25377e-05\tvalid_0's auc: 1\n",
      "[413]\tvalid_0's binary_logloss: 4.25377e-05\tvalid_0's auc: 1\n",
      "[414]\tvalid_0's binary_logloss: 4.25377e-05\tvalid_0's auc: 1\n",
      "[415]\tvalid_0's binary_logloss: 4.25377e-05\tvalid_0's auc: 1\n",
      "[416]\tvalid_0's binary_logloss: 4.25377e-05\tvalid_0's auc: 1\n",
      "[417]\tvalid_0's binary_logloss: 4.25377e-05\tvalid_0's auc: 1\n",
      "[418]\tvalid_0's binary_logloss: 4.25377e-05\tvalid_0's auc: 1\n",
      "[419]\tvalid_0's binary_logloss: 4.25377e-05\tvalid_0's auc: 1\n",
      "[420]\tvalid_0's binary_logloss: 4.25377e-05\tvalid_0's auc: 1\n",
      "[421]\tvalid_0's binary_logloss: 4.25377e-05\tvalid_0's auc: 1\n",
      "[422]\tvalid_0's binary_logloss: 4.25377e-05\tvalid_0's auc: 1\n",
      "[423]\tvalid_0's binary_logloss: 4.25377e-05\tvalid_0's auc: 1\n",
      "[424]\tvalid_0's binary_logloss: 4.25377e-05\tvalid_0's auc: 1\n",
      "[425]\tvalid_0's binary_logloss: 4.25377e-05\tvalid_0's auc: 1\n",
      "[426]\tvalid_0's binary_logloss: 4.25377e-05\tvalid_0's auc: 1\n",
      "[427]\tvalid_0's binary_logloss: 4.25377e-05\tvalid_0's auc: 1\n",
      "[428]\tvalid_0's binary_logloss: 4.25377e-05\tvalid_0's auc: 1\n",
      "[429]\tvalid_0's binary_logloss: 4.25377e-05\tvalid_0's auc: 1\n",
      "[430]\tvalid_0's binary_logloss: 4.25377e-05\tvalid_0's auc: 1\n",
      "[431]\tvalid_0's binary_logloss: 4.25377e-05\tvalid_0's auc: 1\n",
      "[432]\tvalid_0's binary_logloss: 4.25377e-05\tvalid_0's auc: 1\n",
      "[433]\tvalid_0's binary_logloss: 4.25377e-05\tvalid_0's auc: 1\n",
      "[434]\tvalid_0's binary_logloss: 4.25377e-05\tvalid_0's auc: 1\n",
      "[435]\tvalid_0's binary_logloss: 4.25377e-05\tvalid_0's auc: 1\n",
      "[436]\tvalid_0's binary_logloss: 4.25377e-05\tvalid_0's auc: 1\n",
      "[437]\tvalid_0's binary_logloss: 4.25377e-05\tvalid_0's auc: 1\n",
      "[438]\tvalid_0's binary_logloss: 4.25377e-05\tvalid_0's auc: 1\n",
      "[439]\tvalid_0's binary_logloss: 4.25377e-05\tvalid_0's auc: 1\n",
      "[440]\tvalid_0's binary_logloss: 4.25377e-05\tvalid_0's auc: 1\n",
      "[441]\tvalid_0's binary_logloss: 4.25377e-05\tvalid_0's auc: 1\n",
      "[442]\tvalid_0's binary_logloss: 4.25377e-05\tvalid_0's auc: 1\n",
      "[443]\tvalid_0's binary_logloss: 4.25377e-05\tvalid_0's auc: 1\n",
      "[444]\tvalid_0's binary_logloss: 4.25377e-05\tvalid_0's auc: 1\n",
      "[445]\tvalid_0's binary_logloss: 4.25377e-05\tvalid_0's auc: 1\n",
      "[446]\tvalid_0's binary_logloss: 4.25377e-05\tvalid_0's auc: 1\n",
      "[447]\tvalid_0's binary_logloss: 4.25377e-05\tvalid_0's auc: 1\n",
      "[448]\tvalid_0's binary_logloss: 4.25377e-05\tvalid_0's auc: 1\n",
      "[449]\tvalid_0's binary_logloss: 4.25377e-05\tvalid_0's auc: 1\n",
      "[450]\tvalid_0's binary_logloss: 4.25377e-05\tvalid_0's auc: 1\n",
      "[451]\tvalid_0's binary_logloss: 4.25377e-05\tvalid_0's auc: 1\n",
      "[452]\tvalid_0's binary_logloss: 4.25377e-05\tvalid_0's auc: 1\n",
      "[453]\tvalid_0's binary_logloss: 4.25377e-05\tvalid_0's auc: 1\n",
      "[454]\tvalid_0's binary_logloss: 4.25377e-05\tvalid_0's auc: 1\n",
      "[455]\tvalid_0's binary_logloss: 4.25377e-05\tvalid_0's auc: 1\n",
      "[456]\tvalid_0's binary_logloss: 4.25377e-05\tvalid_0's auc: 1\n",
      "[457]\tvalid_0's binary_logloss: 4.25377e-05\tvalid_0's auc: 1\n",
      "[458]\tvalid_0's binary_logloss: 4.25377e-05\tvalid_0's auc: 1\n",
      "[459]\tvalid_0's binary_logloss: 4.25377e-05\tvalid_0's auc: 1\n",
      "[460]\tvalid_0's binary_logloss: 4.25377e-05\tvalid_0's auc: 1\n",
      "[461]\tvalid_0's binary_logloss: 4.25377e-05\tvalid_0's auc: 1\n"
     ]
    },
    {
     "name": "stdout",
     "output_type": "stream",
     "text": [
      "[462]\tvalid_0's binary_logloss: 4.25377e-05\tvalid_0's auc: 1\n",
      "[463]\tvalid_0's binary_logloss: 4.25377e-05\tvalid_0's auc: 1\n",
      "[464]\tvalid_0's binary_logloss: 4.25377e-05\tvalid_0's auc: 1\n",
      "[465]\tvalid_0's binary_logloss: 4.25377e-05\tvalid_0's auc: 1\n",
      "[466]\tvalid_0's binary_logloss: 4.25377e-05\tvalid_0's auc: 1\n",
      "[467]\tvalid_0's binary_logloss: 4.25377e-05\tvalid_0's auc: 1\n",
      "[468]\tvalid_0's binary_logloss: 4.25377e-05\tvalid_0's auc: 1\n",
      "[469]\tvalid_0's binary_logloss: 4.25377e-05\tvalid_0's auc: 1\n",
      "[470]\tvalid_0's binary_logloss: 4.25377e-05\tvalid_0's auc: 1\n",
      "[471]\tvalid_0's binary_logloss: 4.25377e-05\tvalid_0's auc: 1\n",
      "[472]\tvalid_0's binary_logloss: 4.25377e-05\tvalid_0's auc: 1\n",
      "[473]\tvalid_0's binary_logloss: 4.25377e-05\tvalid_0's auc: 1\n",
      "[474]\tvalid_0's binary_logloss: 4.25377e-05\tvalid_0's auc: 1\n",
      "[475]\tvalid_0's binary_logloss: 4.25377e-05\tvalid_0's auc: 1\n",
      "[476]\tvalid_0's binary_logloss: 4.25377e-05\tvalid_0's auc: 1\n",
      "[477]\tvalid_0's binary_logloss: 4.25377e-05\tvalid_0's auc: 1\n",
      "[478]\tvalid_0's binary_logloss: 4.25377e-05\tvalid_0's auc: 1\n",
      "[479]\tvalid_0's binary_logloss: 4.25377e-05\tvalid_0's auc: 1\n",
      "[480]\tvalid_0's binary_logloss: 4.25377e-05\tvalid_0's auc: 1\n",
      "[481]\tvalid_0's binary_logloss: 4.25377e-05\tvalid_0's auc: 1\n",
      "[482]\tvalid_0's binary_logloss: 4.25377e-05\tvalid_0's auc: 1\n",
      "[483]\tvalid_0's binary_logloss: 4.25377e-05\tvalid_0's auc: 1\n",
      "[484]\tvalid_0's binary_logloss: 4.25377e-05\tvalid_0's auc: 1\n",
      "[485]\tvalid_0's binary_logloss: 4.25377e-05\tvalid_0's auc: 1\n",
      "[486]\tvalid_0's binary_logloss: 4.25377e-05\tvalid_0's auc: 1\n",
      "[487]\tvalid_0's binary_logloss: 4.25377e-05\tvalid_0's auc: 1\n",
      "[488]\tvalid_0's binary_logloss: 4.25377e-05\tvalid_0's auc: 1\n",
      "[489]\tvalid_0's binary_logloss: 4.25377e-05\tvalid_0's auc: 1\n",
      "[490]\tvalid_0's binary_logloss: 4.25377e-05\tvalid_0's auc: 1\n",
      "[491]\tvalid_0's binary_logloss: 4.25377e-05\tvalid_0's auc: 1\n",
      "[492]\tvalid_0's binary_logloss: 4.25377e-05\tvalid_0's auc: 1\n",
      "[493]\tvalid_0's binary_logloss: 4.25377e-05\tvalid_0's auc: 1\n",
      "[494]\tvalid_0's binary_logloss: 4.25377e-05\tvalid_0's auc: 1\n",
      "[495]\tvalid_0's binary_logloss: 4.25377e-05\tvalid_0's auc: 1\n",
      "[496]\tvalid_0's binary_logloss: 4.25377e-05\tvalid_0's auc: 1\n",
      "[497]\tvalid_0's binary_logloss: 4.25377e-05\tvalid_0's auc: 1\n",
      "[498]\tvalid_0's binary_logloss: 4.25377e-05\tvalid_0's auc: 1\n",
      "[499]\tvalid_0's binary_logloss: 4.25377e-05\tvalid_0's auc: 1\n",
      "[500]\tvalid_0's binary_logloss: 4.25377e-05\tvalid_0's auc: 1\n",
      "[501]\tvalid_0's binary_logloss: 4.25377e-05\tvalid_0's auc: 1\n",
      "Early stopping, best iteration is:\n",
      "[1]\tvalid_0's binary_logloss: 0.266932\tvalid_0's auc: 1\n",
      "Start predicting...\n"
     ]
    }
   ],
   "source": [
    "# train\n",
    "print('Start training...')\n",
    "gbm = lgb.train(params,\n",
    "                lgb_train,\n",
    "                num_boost_round=10000,\n",
    "                valid_sets=lgb_eval,\n",
    "                early_stopping_rounds=500)\n",
    "\n",
    "print('Start predicting...')\n",
    "\n",
    "preds = gbm.predict(X_test, num_iteration=gbm.best_iteration)  # 输出的是概率结果"
   ]
  },
  {
   "cell_type": "code",
   "execution_count": 222,
   "metadata": {
    "scrolled": true
   },
   "outputs": [
    {
     "name": "stdout",
     "output_type": "stream",
     "text": [
      "该lgbm分类器的准确率为：0.882999,auc值为：1.000000\n"
     ]
    },
    {
     "data": {
      "image/png": "[encoded data removed]",
      "text/plain": [
       "<matplotlib.figure.Figure at 0x2e24321a0f0>"
      ]
     },
     "metadata": {},
     "output_type": "display_data"
    }
   ],
   "source": [
    "# 导出结果\n",
    "threshold = 0.5\n",
    "results = []\n",
    "for pred in preds:\n",
    "    if pred > threshold:\n",
    "        results.append(1)\n",
    "    else:\n",
    "        results.append(0)\n",
    "\n",
    "fpr, tpr, thresholds = metrics.roc_curve(y_test, preds,pos_label = 1)##指定正例标签，pos_label = ###########在数之联的时候学到的，要制定正例\n",
    "roc_auc = metrics.auc(fpr,tpr)\n",
    "#画出ROC曲线\n",
    "plt.plot(fpr, tpr, lw=1, label='ROC  %s (area = %0.3f)' % (gbm, roc_auc)) \n",
    "\n",
    "test_acc = (results == y_test).astype(\"int\").sum()/len(results)        \n",
    "test_auc = metrics.roc_auc_score(y_test,preds)#验证集上的auc值\n",
    "\n",
    "print(\"该lgbm分类器的准确率为：%f,auc值为：%f\"%(test_acc,test_auc))"
   ]
  },
  {
   "cell_type": "code",
   "execution_count": 205,
   "metadata": {},
   "outputs": [
    {
     "name": "stdout",
     "output_type": "stream",
     "text": [
      "[1 0 0 0 0 0 0 0 0 0 0 0 0 0 0 0 0 0 0 0 0 0 0 0 0 0 0 0 0 0 0 0 0 0 0 0 0\n",
      " 0 0 0 0 0 0 0 0 0 0 0 0 0 0]\n"
     ]
    }
   ],
   "source": [
    "# 导出特征重要性\n",
    "importance = gbm.feature_importance()\n",
    "names = gbm.feature_name()\n",
    "with open('./gbm_feature_importance.txt', 'w+') as file:\n",
    "    for index, im in enumerate(importance):\n",
    "        string = names[index] + ', ' + str(im) + '\\n'\n",
    "        file.write(string)"
   ]
  },
  {
   "cell_type": "code",
   "execution_count": 127,
   "metadata": {
    "scrolled": true
   },
   "outputs": [
    {
     "name": "stdout",
     "output_type": "stream",
     "text": [
      "<class 'pandas.core.frame.DataFrame'>\n",
      "RangeIndex: 45211 entries, 0 to 45210\n",
      "Data columns (total 17 columns):\n",
      "age          45211 non-null int64\n",
      "job          45211 non-null object\n",
      "marital      45211 non-null object\n",
      "education    45211 non-null object\n",
      "default      45211 non-null object\n",
      "balance      45211 non-null int64\n",
      "housing      45211 non-null object\n",
      "loan         45211 non-null object\n",
      "contact      45211 non-null object\n",
      "day          45211 non-null int64\n",
      "month        45211 non-null object\n",
      "duration     45211 non-null int64\n",
      "campaign     45211 non-null int64\n",
      "pdays        45211 non-null int64\n",
      "previous     45211 non-null int64\n",
      "poutcome     45211 non-null object\n",
      "y            45211 non-null object\n",
      "dtypes: int64(7), object(10)\n",
      "memory usage: 5.9+ MB\n"
     ]
    }
   ],
   "source": [
    "df = pd.read_csv(\"../dataset/bank_marketing_dataset/bank/bank-full.csv\",sep=\";\")\n",
    "df.info()"
   ]
  },
  {
   "cell_type": "code",
   "execution_count": 128,
   "metadata": {},
   "outputs": [
    {
     "data": {
      "text/plain": [
       "array(['management', 'technician', 'entrepreneur', 'blue-collar',\n",
       "       'unknown', 'retired', 'admin.', 'services', 'self-employed',\n",
       "       'unemployed', 'housemaid', 'student'], dtype=object)"
      ]
     },
     "execution_count": 128,
     "metadata": {},
     "output_type": "execute_result"
    }
   ],
   "source": [
    "df[\"job\"].unique()"
   ]
  },
  {
   "cell_type": "code",
   "execution_count": 129,
   "metadata": {},
   "outputs": [
    {
     "data": {
      "text/plain": [
       "array(['married', 'single', 'divorced'], dtype=object)"
      ]
     },
     "execution_count": 129,
     "metadata": {},
     "output_type": "execute_result"
    }
   ],
   "source": [
    "df[\"marital\"].unique()"
   ]
  },
  {
   "cell_type": "code",
   "execution_count": 131,
   "metadata": {},
   "outputs": [
    {
     "data": {
      "text/plain": [
       "array(['tertiary', 'secondary', 'unknown', 'primary'], dtype=object)"
      ]
     },
     "execution_count": 131,
     "metadata": {},
     "output_type": "execute_result"
    }
   ],
   "source": [
    "df[\"education\"].unique()"
   ]
  },
  {
   "cell_type": "code",
   "execution_count": 132,
   "metadata": {},
   "outputs": [
    {
     "data": {
      "text/plain": [
       "array(['no', 'yes'], dtype=object)"
      ]
     },
     "execution_count": 132,
     "metadata": {},
     "output_type": "execute_result"
    }
   ],
   "source": [
    "df[\"default\"].unique()"
   ]
  },
  {
   "cell_type": "code",
   "execution_count": 133,
   "metadata": {},
   "outputs": [
    {
     "data": {
      "text/plain": [
       "array(['yes', 'no'], dtype=object)"
      ]
     },
     "execution_count": 133,
     "metadata": {},
     "output_type": "execute_result"
    }
   ],
   "source": [
    "df[\"housing\"].unique()"
   ]
  },
  {
   "cell_type": "code",
   "execution_count": 134,
   "metadata": {},
   "outputs": [
    {
     "data": {
      "text/plain": [
       "array(['no', 'yes'], dtype=object)"
      ]
     },
     "execution_count": 134,
     "metadata": {},
     "output_type": "execute_result"
    }
   ],
   "source": [
    "df[\"loan\"].unique()"
   ]
  },
  {
   "cell_type": "code",
   "execution_count": 159,
   "metadata": {},
   "outputs": [
    {
     "name": "stdout",
     "output_type": "stream",
     "text": [
      "贷款人数：7244\n",
      "没有贷款的人数：37967\n"
     ]
    },
    {
     "data": {
      "text/plain": [
       "<matplotlib.axes._subplots.AxesSubplot at 0x2e24250f710>"
      ]
     },
     "execution_count": 159,
     "metadata": {},
     "output_type": "execute_result"
    },
    {
     "data": {
      "image/png": "[encoded data removed]",
      "text/plain": [
       "<matplotlib.figure.Figure at 0x2e2449e8a20>"
      ]
     },
     "metadata": {},
     "output_type": "display_data"
    },
    {
     "data": {
      "image/png": "[encoded data removed]",
      "text/plain": [
       "<matplotlib.figure.Figure at 0x2e2403d34e0>"
      ]
     },
     "metadata": {},
     "output_type": "display_data"
    }
   ],
   "source": [
    "loaned_person = df[df[\"loan\"]==\"yes\"] #贷过款的人\n",
    "no_loaned_person = df[df[\"loan\"]==\"no\"] #没有贷过款的人\n",
    "print(\"贷款人数：%d\"%loaned_person[\"loan\"].count())\n",
    "print(\"没有贷款的人数：%d\"%no_loaned_person[\"loan\"].count())\n",
    "\n",
    "plt.title(\"loaned person\")\n",
    "loaned_person[\"y\"].hist()\n",
    "fig=plt.figure()\n",
    "plt.title(\"no loaned person\")\n",
    "no_loaned_person[\"y\"].hist()"
   ]
  },
  {
   "cell_type": "code",
   "execution_count": 160,
   "metadata": {},
   "outputs": [
    {
     "data": {
      "text/plain": [
       "array(['unknown', 'cellular', 'telephone'], dtype=object)"
      ]
     },
     "execution_count": 160,
     "metadata": {},
     "output_type": "execute_result"
    }
   ],
   "source": [
    "df[\"contact\"].unique()"
   ]
  },
  {
   "cell_type": "code",
   "execution_count": 164,
   "metadata": {},
   "outputs": [
    {
     "data": {
      "text/plain": [
       "<matplotlib.axes._subplots.AxesSubplot at 0x2e24254fe10>"
      ]
     },
     "execution_count": 164,
     "metadata": {},
     "output_type": "execute_result"
    },
    {
     "data": {
      "image/png": "[encoded data removed]",
      "text/plain": [
       "<matplotlib.figure.Figure at 0x2e241902630>"
      ]
     },
     "metadata": {},
     "output_type": "display_data"
    }
   ],
   "source": [
    "unknown_contact = df[df[\"contact\"] == \"unknown\"]\n",
    "unknown_contact[\"y\"].hist()"
   ]
  },
  {
   "cell_type": "code",
   "execution_count": 161,
   "metadata": {},
   "outputs": [
    {
     "data": {
      "text/plain": [
       "array(['may', 'jun', 'jul', 'aug', 'oct', 'nov', 'dec', 'jan', 'feb',\n",
       "       'mar', 'apr', 'sep'], dtype=object)"
      ]
     },
     "execution_count": 161,
     "metadata": {},
     "output_type": "execute_result"
    }
   ],
   "source": [
    "df[\"month\"].unique()"
   ]
  },
  {
   "cell_type": "code",
   "execution_count": 165,
   "metadata": {},
   "outputs": [
    {
     "data": {
      "text/plain": [
       "array(['unknown', 'failure', 'other', 'success'], dtype=object)"
      ]
     },
     "execution_count": 165,
     "metadata": {},
     "output_type": "execute_result"
    }
   ],
   "source": [
    "df[\"poutcome\"].unique()"
   ]
  },
  {
   "cell_type": "code",
   "execution_count": null,
   "metadata": {
    "collapsed": true
   },
   "outputs": [],
   "source": []
  }
 ],
 "metadata": {
  "kernelspec": {
   "display_name": "Python 3",
   "language": "python",
   "name": "python3"
  },
  "language_info": {
   "codemirror_mode": {
    "name": "ipython",
    "version": 3
   },
   "file_extension": ".py",
   "mimetype": "text/x-python",
   "name": "python",
   "nbconvert_exporter": "python",
   "pygments_lexer": "ipython3",
   "version": "3.6.3"
  }
 },
 "nbformat": 4,
 "nbformat_minor": 2
}
