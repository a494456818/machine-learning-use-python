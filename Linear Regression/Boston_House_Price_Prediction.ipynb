{
 "cells": [
  {
   "cell_type": "code",
   "execution_count": 12,
   "metadata": {
    "collapsed": false
   },
   "outputs": [],
   "source": [
    "#波士顿房价预测\n",
    "from sklearn.datasets import load_boston\n",
    "from sklearn.model_selection import train_test_split\n",
    "import numpy as np\n",
    "import math\n"
   ]
  },
  {
   "cell_type": "code",
   "execution_count": 3,
   "metadata": {
    "collapsed": false
   },
   "outputs": [],
   "source": [
    "#读取房价数据（data：特征数据，target：类标）\n",
    "data,target = load_boston(return_X_y=True)\n",
    "#分割训练集和测试集（70%训练集，30%测试集）\n",
    "x_train,x_test,y_train,y_test = train_test_split(data,target,test_size=0.3,random_state=0)\n",
    "\n",
    "train_num = x_train.shape[0] #训练集的数量\n",
    "features_num = x_train.shape[1]#特征数量"
   ]
  },
  {
   "cell_type": "code",
   "execution_count": 14,
   "metadata": {
    "collapsed": false
   },
   "outputs": [],
   "source": [
    "#定义线性函数\n",
    "w = np.zeros((features_num,1)) #初始化权值\n",
    "b = 0 #偏移\n",
    "\n",
    "step = 10000 #迭代次数\n",
    "learning_rate = 0.000006 #学习率\n",
    "\n",
    "#使用梯度下降的方法求解loss的极值\n",
    "for i in range(step):\n",
    "    y_predict = (np.dot(x_train,w)+b).flatten()#预测值\n",
    "\n",
    "    loss = (1/2*train_num)*np.dot(y_predict-y_train,y_predict-y_train)#定义损失函数\n",
    "\n",
    "    #print(\"第%d次的损失值为：%f\"%(i+1,loss))\n",
    "\n",
    "    #使用梯度下降的方式来更新权值\n",
    "    dw = np.zeros((features_num,1))\n",
    "    for j in range(0,features_num): \n",
    "        dw[j] = (1/train_num)*np.dot(y_predict-y_train,x_train[:,j])\n",
    "    w = w-learning_rate*dw\n",
    "    db = (1/train_num)*np.sum(y_predict-y_train)\n",
    "    b = b-learning_rate*db #更新b \n",
    "\n",
    "#进行预测\n",
    "y_predict = (np.dot(x_test,w)+b).flatten()\n",
    "#print(y_predict)\n",
    "\n"
   ]
  },
  {
   "cell_type": "code",
   "execution_count": null,
   "metadata": {
    "collapsed": true
   },
   "outputs": [],
   "source": []
  }
 ],
 "metadata": {
  "kernelspec": {
   "display_name": "Python 3",
   "language": "python",
   "name": "python3"
  }
 },
 "nbformat": 4,
 "nbformat_minor": 2
}
