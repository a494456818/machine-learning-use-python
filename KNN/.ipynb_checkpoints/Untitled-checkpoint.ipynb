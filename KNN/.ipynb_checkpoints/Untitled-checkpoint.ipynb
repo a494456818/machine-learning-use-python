{
 "cells": [
  {
   "cell_type": "markdown",
   "metadata": {},
   "source": [
    "# 计算某条数据的k近邻所属的类别，通过排序输出"
   ]
  },
  {
   "cell_type": "code",
   "execution_count": 3,
   "metadata": {
    "collapsed": true
   },
   "outputs": [],
   "source": [
    "import pandas as pd\n",
    "import numpy as np"
   ]
  },
  {
   "cell_type": "code",
   "execution_count": 4,
   "metadata": {},
   "outputs": [],
   "source": [
    "fertility = pd.read_csv(\"../dataset/fertility.csv\")"
   ]
  },
  {
   "cell_type": "code",
   "execution_count": null,
   "metadata": {
    "collapsed": true
   },
   "outputs": [],
   "source": [
    "def knn(datasets,X,k=3):\n",
    "    '''\n",
    "    Parameters\n",
    "    ----------\n",
    "    datasets：ndarry,shape=[number of data,a waited predicted data which includes label],已有的先验数据集（有类标，类标在最后一列）\n",
    "    X：ndarry,预测的数据,一行表示一条数据\n",
    "    使用欧氏距离\n",
    "    '''\n",
    "    results = []\n",
    "    X_former = datasets[:,:-1]\n",
    "    labels = datasets[:,-1].flatten().astype(\"int\")\n",
    "    row,col = X.shape\n",
    "    for i in range(row):\n",
    "        distances = np.sum((X_former - X[i])**2,axis=1)\n",
    "        satisficated_label = np.argsort(distances)[:k]\n",
    "        labels[satisficated_label]\n",
    "        predict_label = get_mode(labels[satisficated_label])\n",
    "        results.append(predict_label)\n",
    "    return results\n",
    "\n",
    "def get_mode(nums):\n",
    "    '''\n",
    "    nums:list\n",
    "    获取众数\n",
    "    '''\n",
    "    counts = np.bincount(nums)\n",
    "    #返回众数\n",
    "    return np.argmax(counts)"
   ]
  }
 ],
 "metadata": {
  "kernelspec": {
   "display_name": "Python 3",
   "language": "python",
   "name": "python3"
  },
  "language_info": {
   "codemirror_mode": {
    "name": "ipython",
    "version": 3
   },
   "file_extension": ".py",
   "mimetype": "text/x-python",
   "name": "python",
   "nbconvert_exporter": "python",
   "pygments_lexer": "ipython3",
   "version": "3.6.3"
  }
 },
 "nbformat": 4,
 "nbformat_minor": 2
}
